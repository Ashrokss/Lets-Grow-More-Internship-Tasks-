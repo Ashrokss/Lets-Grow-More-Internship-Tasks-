{
 "cells": [
  {
   "cell_type": "code",
   "execution_count": 1,
   "id": "79bc2727",
   "metadata": {
    "execution": {
     "iopub.execute_input": "2024-02-17T10:44:00.996931Z",
     "iopub.status.busy": "2024-02-17T10:44:00.996569Z",
     "iopub.status.idle": "2024-02-17T10:44:03.505855Z",
     "shell.execute_reply": "2024-02-17T10:44:03.504854Z"
    },
    "papermill": {
     "duration": 2.523855,
     "end_time": "2024-02-17T10:44:03.508364",
     "exception": false,
     "start_time": "2024-02-17T10:44:00.984509",
     "status": "completed"
    },
    "tags": []
   },
   "outputs": [
    {
     "name": "stderr",
     "output_type": "stream",
     "text": [
      "/opt/conda/lib/python3.10/site-packages/scipy/__init__.py:146: UserWarning: A NumPy version >=1.16.5 and <1.23.0 is required for this version of SciPy (detected version 1.23.5\n",
      "  warnings.warn(f\"A NumPy version >={np_minversion} and <{np_maxversion}\"\n"
     ]
    }
   ],
   "source": [
    "from sklearn.tree import DecisionTreeClassifier\n",
    "from sklearn.ensemble import GradientBoostingClassifier\n",
    "from sklearn.linear_model import LogisticRegression\n",
    "from sklearn.metrics import classification_report,accuracy_score\n",
    "from sklearn.model_selection import train_test_split,GridSearchCV\n",
    "from sklearn.preprocessing import LabelEncoder\n",
    "from sklearn.naive_bayes import GaussianNB\n",
    "import xgboost as xgb\n",
    "import numpy as np\n",
    "import pandas as pd\n",
    "import warnings\n",
    "warnings.filterwarnings('ignore')"
   ]
  },
  {
   "cell_type": "code",
   "execution_count": 2,
   "id": "c15549f7",
   "metadata": {
    "_kg_hide-input": false,
    "_kg_hide-output": true,
    "execution": {
     "iopub.execute_input": "2024-02-17T10:44:03.532855Z",
     "iopub.status.busy": "2024-02-17T10:44:03.531944Z",
     "iopub.status.idle": "2024-02-17T10:44:37.874845Z",
     "shell.execute_reply": "2024-02-17T10:44:37.873726Z"
    },
    "papermill": {
     "duration": 34.356706,
     "end_time": "2024-02-17T10:44:37.877053",
     "exception": false,
     "start_time": "2024-02-17T10:44:03.520347",
     "status": "completed"
    },
    "tags": []
   },
   "outputs": [
    {
     "name": "stdout",
     "output_type": "stream",
     "text": [
      "\r\n",
      "7-Zip [64] 16.02 : Copyright (c) 1999-2016 Igor Pavlov : 2016-05-21\r\n",
      "p7zip Version 16.02 (locale=C.UTF-8,Utf16=on,HugeFiles=on,64 bits,4 CPUs Intel(R) Xeon(R) CPU @ 2.00GHz (50653),ASM,AES-NI)\r\n",
      "\r\n",
      "Scanning the drive for archives:\r\n",
      "  0M Scan ../input/kkbox-music-recommendation-challenge/\b\b\b\b\b\b\b\b\b\b\b\b\b\b\b\b\b\b\b\b\b\b\b\b\b\b\b\b\b\b\b\b\b\b\b\b\b\b\b\b\b\b\b\b\b\b\b\b\b\b\b\b\b\b\b\b                                                        \b\b\b\b\b\b\b\b\b\b\b\b\b\b\b\b\b\b\b\b\b\b\b\b\b\b\b\b\b\b\b\b\b\b\b\b\b\b\b\b\b\b\b\b\b\b\b\b\b\b\b\b\b\b\b\b1 file, 1349856 bytes (1319 KiB)\r\n",
      "\r\n",
      "Extracting archive: ../input/kkbox-music-recommendation-challenge/members.csv.7z\r\n",
      "--\r\n",
      "Path = ../input/kkbox-music-recommendation-challenge/members.csv.7z\r\n",
      "Type = 7z\r\n",
      "Physical Size = 1349856\r\n",
      "Headers Size = 130\r\n",
      "Method = LZMA2:3m\r\n",
      "Solid = -\r\n",
      "Blocks = 1\r\n",
      "\r\n",
      "  0%\b\b\b\b    \b\b\b\bEverything is Ok\r\n",
      "\r\n",
      "Size:       2503827\r\n",
      "Compressed: 1349856\r\n",
      "\r\n",
      "7-Zip [64] 16.02 : Copyright (c) 1999-2016 Igor Pavlov : 2016-05-21\r\n",
      "p7zip Version 16.02 (locale=C.UTF-8,Utf16=on,HugeFiles=on,64 bits,4 CPUs Intel(R) Xeon(R) CPU @ 2.00GHz (50653),ASM,AES-NI)\r\n",
      "\r\n",
      "Scanning the drive for archives:\r\n",
      "  0M Scan ../input/kkbox-music-recommendation-challenge/\b\b\b\b\b\b\b\b\b\b\b\b\b\b\b\b\b\b\b\b\b\b\b\b\b\b\b\b\b\b\b\b\b\b\b\b\b\b\b\b\b\b\b\b\b\b\b\b\b\b\b\b\b\b\b\b                                                        \b\b\b\b\b\b\b\b\b\b\b\b\b\b\b\b\b\b\b\b\b\b\b\b\b\b\b\b\b\b\b\b\b\b\b\b\b\b\b\b\b\b\b\b\b\b\b\b\b\b\b\b\b\b\b\b1 file, 105809525 bytes (101 MiB)\r\n",
      "\r\n",
      "Extracting archive: ../input/kkbox-music-recommendation-challenge/songs.csv.7z\r\n",
      "--\r\n",
      "Path = ../input/kkbox-music-recommendation-challenge/songs.csv.7z\r\n",
      "Type = 7z\r\n",
      "Physical Size = 105809525\r\n",
      "Headers Size = 122\r\n",
      "Method = LZMA2:24\r\n",
      "Solid = -\r\n",
      "Blocks = 1\r\n",
      "\r\n",
      "  0%\b\b\b\b    \b\b\b\b  2% - songs.csv\b\b\b\b\b\b\b\b\b\b\b\b\b\b\b\b                \b\b\b\b\b\b\b\b\b\b\b\b\b\b\b\b  5% - songs.csv\b\b\b\b\b\b\b\b\b\b\b\b\b\b\b\b                \b\b\b\b\b\b\b\b\b\b\b\b\b\b\b\b  9% - songs.csv\b\b\b\b\b\b\b\b\b\b\b\b\b\b\b\b                \b\b\b\b\b\b\b\b\b\b\b\b\b\b\b\b 12% - songs.csv\b\b\b\b\b\b\b\b\b\b\b\b\b\b\b\b                \b\b\b\b\b\b\b\b\b\b\b\b\b\b\b\b 15% - songs.csv\b\b\b\b\b\b\b\b\b\b\b\b\b\b\b\b                \b\b\b\b\b\b\b\b\b\b\b\b\b\b\b\b 18% - songs.csv\b\b\b\b\b\b\b\b\b\b\b\b\b\b\b\b                \b\b\b\b\b\b\b\b\b\b\b\b\b\b\b\b 21% - songs.csv\b\b\b\b\b\b\b\b\b\b\b\b\b\b\b\b                \b\b\b\b\b\b\b\b\b\b\b\b\b\b\b\b 24% - songs.csv\b\b\b\b\b\b\b\b\b\b\b\b\b\b\b\b                \b\b\b\b\b\b\b\b\b\b\b\b\b\b\b\b 27% - songs.csv\b\b\b\b\b\b\b\b\b\b\b\b\b\b\b\b                \b\b\b\b\b\b\b\b\b\b\b\b\b\b\b\b 30% - songs.csv\b\b\b\b\b\b\b\b\b\b\b\b\b\b\b\b                \b\b\b\b\b\b\b\b\b\b\b\b\b\b\b\b 33% - songs.csv\b\b\b\b\b\b\b\b\b\b\b\b\b\b\b\b                \b\b\b\b\b\b\b\b\b\b\b\b\b\b\b\b 35% - songs.csv\b\b\b\b\b\b\b\b\b\b\b\b\b\b\b\b                \b\b\b\b\b\b\b\b\b\b\b\b\b\b\b\b 39% - songs.csv\b\b\b\b\b\b\b\b\b\b\b\b\b\b\b\b                \b\b\b\b\b\b\b\b\b\b\b\b\b\b\b\b 42% - songs.csv\b\b\b\b\b\b\b\b\b\b\b\b\b\b\b\b                \b\b\b\b\b\b\b\b\b\b\b\b\b\b\b\b 45% - songs.csv\b\b\b\b\b\b\b\b\b\b\b\b\b\b\b\b                \b\b\b\b\b\b\b\b\b\b\b\b\b\b\b\b 48% - songs.csv\b\b\b\b\b\b\b\b\b\b\b\b\b\b\b\b                \b\b\b\b\b\b\b\b\b\b\b\b\b\b\b\b 50% - songs.csv\b\b\b\b\b\b\b\b\b\b\b\b\b\b\b\b                \b\b\b\b\b\b\b\b\b\b\b\b\b\b\b\b 53% - songs.csv\b\b\b\b\b\b\b\b\b\b\b\b\b\b\b\b                \b\b\b\b\b\b\b\b\b\b\b\b\b\b\b\b 56% - songs.csv\b\b\b\b\b\b\b\b\b\b\b\b\b\b\b\b                \b\b\b\b\b\b\b\b\b\b\b\b\b\b\b\b 59% - songs.csv\b\b\b\b\b\b\b\b\b\b\b\b\b\b\b\b                \b\b\b\b\b\b\b\b\b\b\b\b\b\b\b\b 62% - songs.csv\b\b\b\b\b\b\b\b\b\b\b\b\b\b\b\b                \b\b\b\b\b\b\b\b\b\b\b\b\b\b\b\b 65% - songs.csv\b\b\b\b\b\b\b\b\b\b\b\b\b\b\b\b                \b\b\b\b\b\b\b\b\b\b\b\b\b\b\b\b 68% - songs.csv\b\b\b\b\b\b\b\b\b\b\b\b\b\b\b\b                \b\b\b\b\b\b\b\b\b\b\b\b\b\b\b\b 71% - songs.csv\b\b\b\b\b\b\b\b\b\b\b\b\b\b\b\b                \b\b\b\b\b\b\b\b\b\b\b\b\b\b\b\b 74% - songs.csv\b\b\b\b\b\b\b\b\b\b\b\b\b\b\b\b                \b\b\b\b\b\b\b\b\b\b\b\b\b\b\b\b 77% - songs.csv\b\b\b\b\b\b\b\b\b\b\b\b\b\b\b\b                \b\b\b\b\b\b\b\b\b\b\b\b\b\b\b\b 80% - songs.csv\b\b\b\b\b\b\b\b\b\b\b\b\b\b\b\b                \b\b\b\b\b\b\b\b\b\b\b\b\b\b\b\b 83% - songs.csv\b\b\b\b\b\b\b\b\b\b\b\b\b\b\b\b                \b\b\b\b\b\b\b\b\b\b\b\b\b\b\b\b 86% - songs.csv\b\b\b\b\b\b\b\b\b\b\b\b\b\b\b\b                \b\b\b\b\b\b\b\b\b\b\b\b\b\b\b\b 89% - songs.csv\b\b\b\b\b\b\b\b\b\b\b\b\b\b\b\b                \b\b\b\b\b\b\b\b\b\b\b\b\b\b\b\b 92% - songs.csv\b\b\b\b\b\b\b\b\b\b\b\b\b\b\b\b                \b\b\b\b\b\b\b\b\b\b\b\b\b\b\b\b 95% - songs.csv\b\b\b\b\b\b\b\b\b\b\b\b\b\b\b\b                \b\b\b\b\b\b\b\b\b\b\b\b\b\b\b\b 98% - songs.csv\b\b\b\b\b\b\b\b\b\b\b\b\b\b\b\b                \b\b\b\b\b\b\b\b\b\b\b\b\b\b\b\bEverything is Ok\r\n",
      "\r\n",
      "Size:       221828666\r\n",
      "Compressed: 105809525\r\n",
      "\r\n",
      "7-Zip [64] 16.02 : Copyright (c) 1999-2016 Igor Pavlov : 2016-05-21\r\n",
      "p7zip Version 16.02 (locale=C.UTF-8,Utf16=on,HugeFiles=on,64 bits,4 CPUs Intel(R) Xeon(R) CPU @ 2.00GHz (50653),ASM,AES-NI)\r\n",
      "\r\n",
      "Scanning the drive for archives:\r\n",
      "  0M Scan ../input/kkbox-music-recommendation-challenge/\b\b\b\b\b\b\b\b\b\b\b\b\b\b\b\b\b\b\b\b\b\b\b\b\b\b\b\b\b\b\b\b\b\b\b\b\b\b\b\b\b\b\b\b\b\b\b\b\b\b\b\b\b\b\b\b                                                        \b\b\b\b\b\b\b\b\b\b\b\b\b\b\b\b\b\b\b\b\b\b\b\b\b\b\b\b\b\b\b\b\b\b\b\b\b\b\b\b\b\b\b\b\b\b\b\b\b\b\b\b\b\b\b\b1 file, 43925208 bytes (42 MiB)\r\n",
      "\r\n",
      "Extracting archive: ../input/kkbox-music-recommendation-challenge/test.csv.7z\r\n",
      "--\r\n",
      "Path = ../input/kkbox-music-recommendation-challenge/test.csv.7z\r\n",
      "Type = 7z\r\n",
      "Physical Size = 43925208\r\n",
      "Headers Size = 122\r\n",
      "Method = LZMA2:24\r\n",
      "Solid = -\r\n",
      "Blocks = 1\r\n",
      "\r\n",
      "  0%\b\b\b\b    \b\b\b\b  4% - test.csv\b\b\b\b\b\b\b\b\b\b\b\b\b\b\b               \b\b\b\b\b\b\b\b\b\b\b\b\b\b\b 10% - test.csv\b\b\b\b\b\b\b\b\b\b\b\b\b\b\b               \b\b\b\b\b\b\b\b\b\b\b\b\b\b\b 15% - test.csv\b\b\b\b\b\b\b\b\b\b\b\b\b\b\b               \b\b\b\b\b\b\b\b\b\b\b\b\b\b\b 21% - test.csv\b\b\b\b\b\b\b\b\b\b\b\b\b\b\b               \b\b\b\b\b\b\b\b\b\b\b\b\b\b\b 26% - test.csv\b\b\b\b\b\b\b\b\b\b\b\b\b\b\b               \b\b\b\b\b\b\b\b\b\b\b\b\b\b\b 32% - test.csv\b\b\b\b\b\b\b\b\b\b\b\b\b\b\b               \b\b\b\b\b\b\b\b\b\b\b\b\b\b\b 38% - test.csv\b\b\b\b\b\b\b\b\b\b\b\b\b\b\b               \b\b\b\b\b\b\b\b\b\b\b\b\b\b\b 43% - test.csv\b\b\b\b\b\b\b\b\b\b\b\b\b\b\b               \b\b\b\b\b\b\b\b\b\b\b\b\b\b\b 49% - test.csv\b\b\b\b\b\b\b\b\b\b\b\b\b\b\b               \b\b\b\b\b\b\b\b\b\b\b\b\b\b\b 55% - test.csv\b\b\b\b\b\b\b\b\b\b\b\b\b\b\b               \b\b\b\b\b\b\b\b\b\b\b\b\b\b\b 60% - test.csv\b\b\b\b\b\b\b\b\b\b\b\b\b\b\b               \b\b\b\b\b\b\b\b\b\b\b\b\b\b\b 66% - test.csv\b\b\b\b\b\b\b\b\b\b\b\b\b\b\b               \b\b\b\b\b\b\b\b\b\b\b\b\b\b\b 72% - test.csv\b\b\b\b\b\b\b\b\b\b\b\b\b\b\b               \b\b\b\b\b\b\b\b\b\b\b\b\b\b\b 78% - test.csv\b\b\b\b\b\b\b\b\b\b\b\b\b\b\b               \b\b\b\b\b\b\b\b\b\b\b\b\b\b\b 83% - test.csv\b\b\b\b\b\b\b\b\b\b\b\b\b\b\b               \b\b\b\b\b\b\b\b\b\b\b\b\b\b\b 90% - test.csv\b\b\b\b\b\b\b\b\b\b\b\b\b\b\b               \b\b\b\b\b\b\b\b\b\b\b\b\b\b\b 96% - test.csv\b\b\b\b\b\b\b\b\b\b\b\b\b\b\b               \b\b\b\b\b\b\b\b\b\b\b\b\b\b\bEverything is Ok\r\n",
      "\r\n",
      "Size:       347789925\r\n",
      "Compressed: 43925208\r\n",
      "\r\n",
      "7-Zip [64] 16.02 : Copyright (c) 1999-2016 Igor Pavlov : 2016-05-21\r\n",
      "p7zip Version 16.02 (locale=C.UTF-8,Utf16=on,HugeFiles=on,64 bits,4 CPUs Intel(R) Xeon(R) CPU @ 2.00GHz (50653),ASM,AES-NI)\r\n",
      "\r\n",
      "Scanning the drive for archives:\r\n",
      "  0M Scan ../input/kkbox-music-recommendation-challenge/\b\b\b\b\b\b\b\b\b\b\b\b\b\b\b\b\b\b\b\b\b\b\b\b\b\b\b\b\b\b\b\b\b\b\b\b\b\b\b\b\b\b\b\b\b\b\b\b\b\b\b\b\b\b\b\b                                                        \b\b\b\b\b\b\b\b\b\b\b\b\b\b\b\b\b\b\b\b\b\b\b\b\b\b\b\b\b\b\b\b\b\b\b\b\b\b\b\b\b\b\b\b\b\b\b\b\b\b\b\b\b\b\b\b1 file, 106420688 bytes (102 MiB)\r\n",
      "\r\n",
      "Extracting archive: ../input/kkbox-music-recommendation-challenge/train.csv.7z\r\n",
      "--\r\n",
      "Path = ../input/kkbox-music-recommendation-challenge/train.csv.7z\r\n",
      "Type = 7z\r\n",
      "Physical Size = 106420688\r\n",
      "Headers Size = 122\r\n",
      "Method = LZMA2:24\r\n",
      "Solid = -\r\n",
      "Blocks = 1\r\n",
      "\r\n",
      "  0%\b\b\b\b    \b\b\b\b  2% - train.csv\b\b\b\b\b\b\b\b\b\b\b\b\b\b\b\b                \b\b\b\b\b\b\b\b\b\b\b\b\b\b\b\b  4% - train.csv\b\b\b\b\b\b\b\b\b\b\b\b\b\b\b\b                \b\b\b\b\b\b\b\b\b\b\b\b\b\b\b\b  7% - train.csv\b\b\b\b\b\b\b\b\b\b\b\b\b\b\b\b                \b\b\b\b\b\b\b\b\b\b\b\b\b\b\b\b  9% - train.csv\b\b\b\b\b\b\b\b\b\b\b\b\b\b\b\b                \b\b\b\b\b\b\b\b\b\b\b\b\b\b\b\b 12% - train.csv\b\b\b\b\b\b\b\b\b\b\b\b\b\b\b\b                \b\b\b\b\b\b\b\b\b\b\b\b\b\b\b\b 14% - train.csv\b\b\b\b\b\b\b\b\b\b\b\b\b\b\b\b                \b\b\b\b\b\b\b\b\b\b\b\b\b\b\b\b 17% - train.csv\b\b\b\b\b\b\b\b\b\b\b\b\b\b\b\b                \b\b\b\b\b\b\b\b\b\b\b\b\b\b\b\b 19% - train.csv\b\b\b\b\b\b\b\b\b\b\b\b\b\b\b\b                \b\b\b\b\b\b\b\b\b\b\b\b\b\b\b\b 22% - train.csv\b\b\b\b\b\b\b\b\b\b\b\b\b\b\b\b                \b\b\b\b\b\b\b\b\b\b\b\b\b\b\b\b 24% - train.csv\b\b\b\b\b\b\b\b\b\b\b\b\b\b\b\b                \b\b\b\b\b\b\b\b\b\b\b\b\b\b\b\b 27% - train.csv\b\b\b\b\b\b\b\b\b\b\b\b\b\b\b\b                \b\b\b\b\b\b\b\b\b\b\b\b\b\b\b\b 29% - train.csv\b\b\b\b\b\b\b\b\b\b\b\b\b\b\b\b                \b\b\b\b\b\b\b\b\b\b\b\b\b\b\b\b 31% - train.csv\b\b\b\b\b\b\b\b\b\b\b\b\b\b\b\b                \b\b\b\b\b\b\b\b\b\b\b\b\b\b\b\b 34% - train.csv\b\b\b\b\b\b\b\b\b\b\b\b\b\b\b\b                \b\b\b\b\b\b\b\b\b\b\b\b\b\b\b\b 36% - train.csv\b\b\b\b\b\b\b\b\b\b\b\b\b\b\b\b                \b\b\b\b\b\b\b\b\b\b\b\b\b\b\b\b 39% - train.csv\b\b\b\b\b\b\b\b\b\b\b\b\b\b\b\b                \b\b\b\b\b\b\b\b\b\b\b\b\b\b\b\b 41% - train.csv\b\b\b\b\b\b\b\b\b\b\b\b\b\b\b\b                \b\b\b\b\b\b\b\b\b\b\b\b\b\b\b\b 43% - train.csv\b\b\b\b\b\b\b\b\b\b\b\b\b\b\b\b                \b\b\b\b\b\b\b\b\b\b\b\b\b\b\b\b 45% - train.csv\b\b\b\b\b\b\b\b\b\b\b\b\b\b\b\b                \b\b\b\b\b\b\b\b\b\b\b\b\b\b\b\b 48% - train.csv\b\b\b\b\b\b\b\b\b\b\b\b\b\b\b\b                \b\b\b\b\b\b\b\b\b\b\b\b\b\b\b\b 50% - train.csv\b\b\b\b\b\b\b\b\b\b\b\b\b\b\b\b                \b\b\b\b\b\b\b\b\b\b\b\b\b\b\b\b 52% - train.csv\b\b\b\b\b\b\b\b\b\b\b\b\b\b\b\b                \b\b\b\b\b\b\b\b\b\b\b\b\b\b\b\b 54% - train.csv\b\b\b\b\b\b\b\b\b\b\b\b\b\b\b\b                \b\b\b\b\b\b\b\b\b\b\b\b\b\b\b\b 56% - train.csv\b\b\b\b\b\b\b\b\b\b\b\b\b\b\b\b                \b\b\b\b\b\b\b\b\b\b\b\b\b\b\b\b 59% - train.csv\b\b\b\b\b\b\b\b\b\b\b\b\b\b\b\b                \b\b\b\b\b\b\b\b\b\b\b\b\b\b\b\b 61% - train.csv\b\b\b\b\b\b\b\b\b\b\b\b\b\b\b\b                \b\b\b\b\b\b\b\b\b\b\b\b\b\b\b\b 63% - train.csv\b\b\b\b\b\b\b\b\b\b\b\b\b\b\b\b                \b\b\b\b\b\b\b\b\b\b\b\b\b\b\b\b 66% - train.csv\b\b\b\b\b\b\b\b\b\b\b\b\b\b\b\b                \b\b\b\b\b\b\b\b\b\b\b\b\b\b\b\b 68% - train.csv\b\b\b\b\b\b\b\b\b\b\b\b\b\b\b\b                \b\b\b\b\b\b\b\b\b\b\b\b\b\b\b\b 70% - train.csv\b\b\b\b\b\b\b\b\b\b\b\b\b\b\b\b                \b\b\b\b\b\b\b\b\b\b\b\b\b\b\b\b 72% - train.csv\b\b\b\b\b\b\b\b\b\b\b\b\b\b\b\b                \b\b\b\b\b\b\b\b\b\b\b\b\b\b\b\b 75% - train.csv\b\b\b\b\b\b\b\b\b\b\b\b\b\b\b\b                \b\b\b\b\b\b\b\b\b\b\b\b\b\b\b\b 77% - train.csv\b\b\b\b\b\b\b\b\b\b\b\b\b\b\b\b                \b\b\b\b\b\b\b\b\b\b\b\b\b\b\b\b 79% - train.csv\b\b\b\b\b\b\b\b\b\b\b\b\b\b\b\b                \b\b\b\b\b\b\b\b\b\b\b\b\b\b\b\b 82% - train.csv\b\b\b\b\b\b\b\b\b\b\b\b\b\b\b\b                \b\b\b\b\b\b\b\b\b\b\b\b\b\b\b\b 84% - train.csv\b\b\b\b\b\b\b\b\b\b\b\b\b\b\b\b                \b\b\b\b\b\b\b\b\b\b\b\b\b\b\b\b 86% - train.csv\b\b\b\b\b\b\b\b\b\b\b\b\b\b\b\b                \b\b\b\b\b\b\b\b\b\b\b\b\b\b\b\b 88% - train.csv\b\b\b\b\b\b\b\b\b\b\b\b\b\b\b\b                \b\b\b\b\b\b\b\b\b\b\b\b\b\b\b\b 90% - train.csv\b\b\b\b\b\b\b\b\b\b\b\b\b\b\b\b                \b\b\b\b\b\b\b\b\b\b\b\b\b\b\b\b 93% - train.csv\b\b\b\b\b\b\b\b\b\b\b\b\b\b\b\b                \b\b\b\b\b\b\b\b\b\b\b\b\b\b\b\b 95% - train.csv\b\b\b\b\b\b\b\b\b\b\b\b\b\b\b\b                \b\b\b\b\b\b\b\b\b\b\b\b\b\b\b\b 97% - train.csv\b\b\b\b\b\b\b\b\b\b\b\b\b\b\b\b                \b\b\b\b\b\b\b\b\b\b\b\b\b\b\b\b100% 1\b\b\b\b\b\b      \b\b\b\b\b\bEverything is Ok\r\n",
      "\r\n",
      "Size:       971675848\r\n",
      "Compressed: 106420688\r\n",
      "\r\n",
      "7-Zip [64] 16.02 : Copyright (c) 1999-2016 Igor Pavlov : 2016-05-21\r\n",
      "p7zip Version 16.02 (locale=C.UTF-8,Utf16=on,HugeFiles=on,64 bits,4 CPUs Intel(R) Xeon(R) CPU @ 2.00GHz (50653),ASM,AES-NI)\r\n",
      "\r\n",
      "Scanning the drive for archives:\r\n",
      "  0M Scan ../input/kkbox-music-recommendation-challenge/\b\b\b\b\b\b\b\b\b\b\b\b\b\b\b\b\b\b\b\b\b\b\b\b\b\b\b\b\b\b\b\b\b\b\b\b\b\b\b\b\b\b\b\b\b\b\b\b\b\b\b\b\b\b\b\b                                                        \b\b\b\b\b\b\b\b\b\b\b\b\b\b\b\b\b\b\b\b\b\b\b\b\b\b\b\b\b\b\b\b\b\b\b\b\b\b\b\b\b\b\b\b\b\b\b\b\b\b\b\b\b\b\b\b1 file, 103608205 bytes (99 MiB)\r\n",
      "\r\n",
      "Extracting archive: ../input/kkbox-music-recommendation-challenge/song_extra_info.csv.7z\r\n",
      "--\r\n",
      "Path = ../input/kkbox-music-recommendation-challenge/song_extra_info.csv.7z\r\n",
      "Type = 7z\r\n",
      "Physical Size = 103608205\r\n",
      "Headers Size = 140\r\n",
      "Method = LZMA:25\r\n",
      "Solid = -\r\n",
      "Blocks = 1\r\n",
      "\r\n",
      "  0%\b\b\b\b    \b\b\b\b  2% - song_extra_info.csv\b\b\b\b\b\b\b\b\b\b\b\b\b\b\b\b\b\b\b\b\b\b\b\b\b\b                          \b\b\b\b\b\b\b\b\b\b\b\b\b\b\b\b\b\b\b\b\b\b\b\b\b\b  5% - song_extra_info.csv\b\b\b\b\b\b\b\b\b\b\b\b\b\b\b\b\b\b\b\b\b\b\b\b\b\b                          \b\b\b\b\b\b\b\b\b\b\b\b\b\b\b\b\b\b\b\b\b\b\b\b\b\b  8% - song_extra_info.csv\b\b\b\b\b\b\b\b\b\b\b\b\b\b\b\b\b\b\b\b\b\b\b\b\b\b                          \b\b\b\b\b\b\b\b\b\b\b\b\b\b\b\b\b\b\b\b\b\b\b\b\b\b 11% - song_extra_info.csv\b\b\b\b\b\b\b\b\b\b\b\b\b\b\b\b\b\b\b\b\b\b\b\b\b\b                          \b\b\b\b\b\b\b\b\b\b\b\b\b\b\b\b\b\b\b\b\b\b\b\b\b\b 14% - song_extra_info.csv\b\b\b\b\b\b\b\b\b\b\b\b\b\b\b\b\b\b\b\b\b\b\b\b\b\b                          \b\b\b\b\b\b\b\b\b\b\b\b\b\b\b\b\b\b\b\b\b\b\b\b\b\b 17% - song_extra_info.csv\b\b\b\b\b\b\b\b\b\b\b\b\b\b\b\b\b\b\b\b\b\b\b\b\b\b                          \b\b\b\b\b\b\b\b\b\b\b\b\b\b\b\b\b\b\b\b\b\b\b\b\b\b 20% - song_extra_info.csv\b\b\b\b\b\b\b\b\b\b\b\b\b\b\b\b\b\b\b\b\b\b\b\b\b\b                          \b\b\b\b\b\b\b\b\b\b\b\b\b\b\b\b\b\b\b\b\b\b\b\b\b\b 23% - song_extra_info.csv\b\b\b\b\b\b\b\b\b\b\b\b\b\b\b\b\b\b\b\b\b\b\b\b\b\b                          \b\b\b\b\b\b\b\b\b\b\b\b\b\b\b\b\b\b\b\b\b\b\b\b\b\b 26% - song_extra_info.csv\b\b\b\b\b\b\b\b\b\b\b\b\b\b\b\b\b\b\b\b\b\b\b\b\b\b                          \b\b\b\b\b\b\b\b\b\b\b\b\b\b\b\b\b\b\b\b\b\b\b\b\b\b 29% - song_extra_info.csv\b\b\b\b\b\b\b\b\b\b\b\b\b\b\b\b\b\b\b\b\b\b\b\b\b\b                          \b\b\b\b\b\b\b\b\b\b\b\b\b\b\b\b\b\b\b\b\b\b\b\b\b\b 32% - song_extra_info.csv\b\b\b\b\b\b\b\b\b\b\b\b\b\b\b\b\b\b\b\b\b\b\b\b\b\b                          \b\b\b\b\b\b\b\b\b\b\b\b\b\b\b\b\b\b\b\b\b\b\b\b\b\b 35% - song_extra_info.csv\b\b\b\b\b\b\b\b\b\b\b\b\b\b\b\b\b\b\b\b\b\b\b\b\b\b                          \b\b\b\b\b\b\b\b\b\b\b\b\b\b\b\b\b\b\b\b\b\b\b\b\b\b 39% - song_extra_info.csv\b\b\b\b\b\b\b\b\b\b\b\b\b\b\b\b\b\b\b\b\b\b\b\b\b\b                          \b\b\b\b\b\b\b\b\b\b\b\b\b\b\b\b\b\b\b\b\b\b\b\b\b\b 41% - song_extra_info.csv\b\b\b\b\b\b\b\b\b\b\b\b\b\b\b\b\b\b\b\b\b\b\b\b\b\b                          \b\b\b\b\b\b\b\b\b\b\b\b\b\b\b\b\b\b\b\b\b\b\b\b\b\b 45% - song_extra_info.csv\b\b\b\b\b\b\b\b\b\b\b\b\b\b\b\b\b\b\b\b\b\b\b\b\b\b                          \b\b\b\b\b\b\b\b\b\b\b\b\b\b\b\b\b\b\b\b\b\b\b\b\b\b 48% - song_extra_info.csv\b\b\b\b\b\b\b\b\b\b\b\b\b\b\b\b\b\b\b\b\b\b\b\b\b\b                          \b\b\b\b\b\b\b\b\b\b\b\b\b\b\b\b\b\b\b\b\b\b\b\b\b\b 50% - song_extra_info.csv\b\b\b\b\b\b\b\b\b\b\b\b\b\b\b\b\b\b\b\b\b\b\b\b\b\b                          \b\b\b\b\b\b\b\b\b\b\b\b\b\b\b\b\b\b\b\b\b\b\b\b\b\b 54% - song_extra_info.csv\b\b\b\b\b\b\b\b\b\b\b\b\b\b\b\b\b\b\b\b\b\b\b\b\b\b                          \b\b\b\b\b\b\b\b\b\b\b\b\b\b\b\b\b\b\b\b\b\b\b\b\b\b 57% - song_extra_info.csv\b\b\b\b\b\b\b\b\b\b\b\b\b\b\b\b\b\b\b\b\b\b\b\b\b\b                          \b\b\b\b\b\b\b\b\b\b\b\b\b\b\b\b\b\b\b\b\b\b\b\b\b\b 60% - song_extra_info.csv\b\b\b\b\b\b\b\b\b\b\b\b\b\b\b\b\b\b\b\b\b\b\b\b\b\b                          \b\b\b\b\b\b\b\b\b\b\b\b\b\b\b\b\b\b\b\b\b\b\b\b\b\b 63% - song_extra_info.csv\b\b\b\b\b\b\b\b\b\b\b\b\b\b\b\b\b\b\b\b\b\b\b\b\b\b                          \b\b\b\b\b\b\b\b\b\b\b\b\b\b\b\b\b\b\b\b\b\b\b\b\b\b 66% - song_extra_info.csv\b\b\b\b\b\b\b\b\b\b\b\b\b\b\b\b\b\b\b\b\b\b\b\b\b\b                          \b\b\b\b\b\b\b\b\b\b\b\b\b\b\b\b\b\b\b\b\b\b\b\b\b\b 69% - song_extra_info.csv\b\b\b\b\b\b\b\b\b\b\b\b\b\b\b\b\b\b\b\b\b\b\b\b\b\b                          \b\b\b\b\b\b\b\b\b\b\b\b\b\b\b\b\b\b\b\b\b\b\b\b\b\b 72% - song_extra_info.csv\b\b\b\b\b\b\b\b\b\b\b\b\b\b\b\b\b\b\b\b\b\b\b\b\b\b                          \b\b\b\b\b\b\b\b\b\b\b\b\b\b\b\b\b\b\b\b\b\b\b\b\b\b 75% - song_extra_info.csv\b\b\b\b\b\b\b\b\b\b\b\b\b\b\b\b\b\b\b\b\b\b\b\b\b\b                          \b\b\b\b\b\b\b\b\b\b\b\b\b\b\b\b\b\b\b\b\b\b\b\b\b\b 78% - song_extra_info.csv\b\b\b\b\b\b\b\b\b\b\b\b\b\b\b\b\b\b\b\b\b\b\b\b\b\b                          \b\b\b\b\b\b\b\b\b\b\b\b\b\b\b\b\b\b\b\b\b\b\b\b\b\b 81% - song_extra_info.csv\b\b\b\b\b\b\b\b\b\b\b\b\b\b\b\b\b\b\b\b\b\b\b\b\b\b                          \b\b\b\b\b\b\b\b\b\b\b\b\b\b\b\b\b\b\b\b\b\b\b\b\b\b 84% - song_extra_info.csv\b\b\b\b\b\b\b\b\b\b\b\b\b\b\b\b\b\b\b\b\b\b\b\b\b\b                          \b\b\b\b\b\b\b\b\b\b\b\b\b\b\b\b\b\b\b\b\b\b\b\b\b\b 87% - song_extra_info.csv\b\b\b\b\b\b\b\b\b\b\b\b\b\b\b\b\b\b\b\b\b\b\b\b\b\b                          \b\b\b\b\b\b\b\b\b\b\b\b\b\b\b\b\b\b\b\b\b\b\b\b\b\b 90% - song_extra_info.csv\b\b\b\b\b\b\b\b\b\b\b\b\b\b\b\b\b\b\b\b\b\b\b\b\b\b                          \b\b\b\b\b\b\b\b\b\b\b\b\b\b\b\b\b\b\b\b\b\b\b\b\b\b 94% - song_extra_info.csv\b\b\b\b\b\b\b\b\b\b\b\b\b\b\b\b\b\b\b\b\b\b\b\b\b\b                          \b\b\b\b\b\b\b\b\b\b\b\b\b\b\b\b\b\b\b\b\b\b\b\b\b\b 97% - song_extra_info.csv\b\b\b\b\b\b\b\b\b\b\b\b\b\b\b\b\b\b\b\b\b\b\b\b\b\b                          \b\b\b\b\b\b\b\b\b\b\b\b\b\b\b\b\b\b\b\b\b\b\b\b\b\b 99% - song_extra_info.csv\b\b\b\b\b\b\b\b\b\b\b\b\b\b\b\b\b\b\b\b\b\b\b\b\b\b                          \b\b\b\b\b\b\b\b\b\b\b\b\b\b\b\b\b\b\b\b\b\b\b\b\b\bEverything is Ok\r\n",
      "\r\n",
      "Size:       181010294\r\n",
      "Compressed: 103608205\r\n",
      "\r\n",
      "7-Zip [64] 16.02 : Copyright (c) 1999-2016 Igor Pavlov : 2016-05-21\r\n",
      "p7zip Version 16.02 (locale=C.UTF-8,Utf16=on,HugeFiles=on,64 bits,4 CPUs Intel(R) Xeon(R) CPU @ 2.00GHz (50653),ASM,AES-NI)\r\n",
      "\r\n",
      "Scanning the drive for archives:\r\n",
      "  0M Scan ../input/kkbox-music-recommendation-challenge/\b\b\b\b\b\b\b\b\b\b\b\b\b\b\b\b\b\b\b\b\b\b\b\b\b\b\b\b\b\b\b\b\b\b\b\b\b\b\b\b\b\b\b\b\b\b\b\b\b\b\b\b\b\b\b\b                                                        \b\b\b\b\b\b\b\b\b\b\b\b\b\b\b\b\b\b\b\b\b\b\b\b\b\b\b\b\b\b\b\b\b\b\b\b\b\b\b\b\b\b\b\b\b\b\b\b\b\b\b\b\b\b\b\b1 file, 463688 bytes (453 KiB)\r\n",
      "\r\n",
      "Extracting archive: ../input/kkbox-music-recommendation-challenge/sample_submission.csv.7z\r\n",
      "--\r\n",
      "Path = ../input/kkbox-music-recommendation-challenge/sample_submission.csv.7z\r\n",
      "Type = 7z\r\n",
      "Physical Size = 463688\r\n",
      "Headers Size = 146\r\n",
      "Method = LZMA2:24\r\n",
      "Solid = -\r\n",
      "Blocks = 1\r\n",
      "\r\n",
      "  0%\b\b\b\b    \b\b\b\bEverything is Ok\r\n",
      "\r\n",
      "Size:       29570380\r\n",
      "Compressed: 463688\r\n"
     ]
    }
   ],
   "source": [
    "# Unziping Data\n",
    "!7z e \"../input/kkbox-music-recommendation-challenge/members.csv.7z\"\n",
    "!7z e \"../input/kkbox-music-recommendation-challenge/songs.csv.7z\"\n",
    "!7z e \"../input/kkbox-music-recommendation-challenge/test.csv.7z\"\n",
    "!7z e \"../input/kkbox-music-recommendation-challenge/train.csv.7z\"\n",
    "!7z e \"../input/kkbox-music-recommendation-challenge/song_extra_info.csv.7z\"\n",
    "!7z e \"../input/kkbox-music-recommendation-challenge/sample_submission.csv.7z\""
   ]
  },
  {
   "cell_type": "markdown",
   "id": "a986885f",
   "metadata": {
    "papermill": {
     "duration": 0.020279,
     "end_time": "2024-02-17T10:44:37.918024",
     "exception": false,
     "start_time": "2024-02-17T10:44:37.897745",
     "status": "completed"
    },
    "tags": []
   },
   "source": [
    "## Loading The Data"
   ]
  },
  {
   "cell_type": "code",
   "execution_count": 3,
   "id": "9687b60e",
   "metadata": {
    "execution": {
     "iopub.execute_input": "2024-02-17T10:44:37.961319Z",
     "iopub.status.busy": "2024-02-17T10:44:37.960530Z",
     "iopub.status.idle": "2024-02-17T10:44:49.299554Z",
     "shell.execute_reply": "2024-02-17T10:44:49.298498Z"
    },
    "papermill": {
     "duration": 11.363651,
     "end_time": "2024-02-17T10:44:49.302115",
     "exception": false,
     "start_time": "2024-02-17T10:44:37.938464",
     "status": "completed"
    },
    "tags": []
   },
   "outputs": [],
   "source": [
    "train_data = pd.read_csv(r\"/kaggle/working/train.csv\")"
   ]
  },
  {
   "cell_type": "code",
   "execution_count": 4,
   "id": "8ae1d926",
   "metadata": {
    "execution": {
     "iopub.execute_input": "2024-02-17T10:44:49.345910Z",
     "iopub.status.busy": "2024-02-17T10:44:49.345537Z",
     "iopub.status.idle": "2024-02-17T10:44:49.369639Z",
     "shell.execute_reply": "2024-02-17T10:44:49.368536Z"
    },
    "papermill": {
     "duration": 0.048598,
     "end_time": "2024-02-17T10:44:49.371892",
     "exception": false,
     "start_time": "2024-02-17T10:44:49.323294",
     "status": "completed"
    },
    "tags": []
   },
   "outputs": [
    {
     "data": {
      "text/html": [
       "<div>\n",
       "<style scoped>\n",
       "    .dataframe tbody tr th:only-of-type {\n",
       "        vertical-align: middle;\n",
       "    }\n",
       "\n",
       "    .dataframe tbody tr th {\n",
       "        vertical-align: top;\n",
       "    }\n",
       "\n",
       "    .dataframe thead th {\n",
       "        text-align: right;\n",
       "    }\n",
       "</style>\n",
       "<table border=\"1\" class=\"dataframe\">\n",
       "  <thead>\n",
       "    <tr style=\"text-align: right;\">\n",
       "      <th></th>\n",
       "      <th>msno</th>\n",
       "      <th>song_id</th>\n",
       "      <th>source_system_tab</th>\n",
       "      <th>source_screen_name</th>\n",
       "      <th>source_type</th>\n",
       "      <th>target</th>\n",
       "    </tr>\n",
       "  </thead>\n",
       "  <tbody>\n",
       "    <tr>\n",
       "      <th>0</th>\n",
       "      <td>FGtllVqz18RPiwJj/edr2gV78zirAiY/9SmYvia+kCg=</td>\n",
       "      <td>BBzumQNXUHKdEBOB7mAJuzok+IJA1c2Ryg/yzTF6tik=</td>\n",
       "      <td>explore</td>\n",
       "      <td>Explore</td>\n",
       "      <td>online-playlist</td>\n",
       "      <td>1</td>\n",
       "    </tr>\n",
       "    <tr>\n",
       "      <th>1</th>\n",
       "      <td>Xumu+NIjS6QYVxDS4/t3SawvJ7viT9hPKXmf0RtLNx8=</td>\n",
       "      <td>bhp/MpSNoqoxOIB+/l8WPqu6jldth4DIpCm3ayXnJqM=</td>\n",
       "      <td>my library</td>\n",
       "      <td>Local playlist more</td>\n",
       "      <td>local-playlist</td>\n",
       "      <td>1</td>\n",
       "    </tr>\n",
       "    <tr>\n",
       "      <th>2</th>\n",
       "      <td>Xumu+NIjS6QYVxDS4/t3SawvJ7viT9hPKXmf0RtLNx8=</td>\n",
       "      <td>JNWfrrC7zNN7BdMpsISKa4Mw+xVJYNnxXh3/Epw7QgY=</td>\n",
       "      <td>my library</td>\n",
       "      <td>Local playlist more</td>\n",
       "      <td>local-playlist</td>\n",
       "      <td>1</td>\n",
       "    </tr>\n",
       "    <tr>\n",
       "      <th>3</th>\n",
       "      <td>Xumu+NIjS6QYVxDS4/t3SawvJ7viT9hPKXmf0RtLNx8=</td>\n",
       "      <td>2A87tzfnJTSWqD7gIZHisolhe4DMdzkbd6LzO1KHjNs=</td>\n",
       "      <td>my library</td>\n",
       "      <td>Local playlist more</td>\n",
       "      <td>local-playlist</td>\n",
       "      <td>1</td>\n",
       "    </tr>\n",
       "    <tr>\n",
       "      <th>4</th>\n",
       "      <td>FGtllVqz18RPiwJj/edr2gV78zirAiY/9SmYvia+kCg=</td>\n",
       "      <td>3qm6XTZ6MOCU11x8FIVbAGH5l5uMkT3/ZalWG1oo2Gc=</td>\n",
       "      <td>explore</td>\n",
       "      <td>Explore</td>\n",
       "      <td>online-playlist</td>\n",
       "      <td>1</td>\n",
       "    </tr>\n",
       "  </tbody>\n",
       "</table>\n",
       "</div>"
      ],
      "text/plain": [
       "                                           msno  \\\n",
       "0  FGtllVqz18RPiwJj/edr2gV78zirAiY/9SmYvia+kCg=   \n",
       "1  Xumu+NIjS6QYVxDS4/t3SawvJ7viT9hPKXmf0RtLNx8=   \n",
       "2  Xumu+NIjS6QYVxDS4/t3SawvJ7viT9hPKXmf0RtLNx8=   \n",
       "3  Xumu+NIjS6QYVxDS4/t3SawvJ7viT9hPKXmf0RtLNx8=   \n",
       "4  FGtllVqz18RPiwJj/edr2gV78zirAiY/9SmYvia+kCg=   \n",
       "\n",
       "                                        song_id source_system_tab  \\\n",
       "0  BBzumQNXUHKdEBOB7mAJuzok+IJA1c2Ryg/yzTF6tik=           explore   \n",
       "1  bhp/MpSNoqoxOIB+/l8WPqu6jldth4DIpCm3ayXnJqM=        my library   \n",
       "2  JNWfrrC7zNN7BdMpsISKa4Mw+xVJYNnxXh3/Epw7QgY=        my library   \n",
       "3  2A87tzfnJTSWqD7gIZHisolhe4DMdzkbd6LzO1KHjNs=        my library   \n",
       "4  3qm6XTZ6MOCU11x8FIVbAGH5l5uMkT3/ZalWG1oo2Gc=           explore   \n",
       "\n",
       "    source_screen_name      source_type  target  \n",
       "0              Explore  online-playlist       1  \n",
       "1  Local playlist more   local-playlist       1  \n",
       "2  Local playlist more   local-playlist       1  \n",
       "3  Local playlist more   local-playlist       1  \n",
       "4              Explore  online-playlist       1  "
      ]
     },
     "execution_count": 4,
     "metadata": {},
     "output_type": "execute_result"
    }
   ],
   "source": [
    "train_data.head()"
   ]
  },
  {
   "cell_type": "code",
   "execution_count": 5,
   "id": "6c8e0ec8",
   "metadata": {
    "execution": {
     "iopub.execute_input": "2024-02-17T10:44:49.421103Z",
     "iopub.status.busy": "2024-02-17T10:44:49.420297Z",
     "iopub.status.idle": "2024-02-17T10:44:49.490892Z",
     "shell.execute_reply": "2024-02-17T10:44:49.489916Z"
    },
    "papermill": {
     "duration": 0.097225,
     "end_time": "2024-02-17T10:44:49.493374",
     "exception": false,
     "start_time": "2024-02-17T10:44:49.396149",
     "status": "completed"
    },
    "tags": []
   },
   "outputs": [
    {
     "data": {
      "text/html": [
       "<div>\n",
       "<style scoped>\n",
       "    .dataframe tbody tr th:only-of-type {\n",
       "        vertical-align: middle;\n",
       "    }\n",
       "\n",
       "    .dataframe tbody tr th {\n",
       "        vertical-align: top;\n",
       "    }\n",
       "\n",
       "    .dataframe thead th {\n",
       "        text-align: right;\n",
       "    }\n",
       "</style>\n",
       "<table border=\"1\" class=\"dataframe\">\n",
       "  <thead>\n",
       "    <tr style=\"text-align: right;\">\n",
       "      <th></th>\n",
       "      <th>msno</th>\n",
       "      <th>city</th>\n",
       "      <th>bd</th>\n",
       "      <th>gender</th>\n",
       "      <th>registered_via</th>\n",
       "      <th>registration_init_time</th>\n",
       "      <th>expiration_date</th>\n",
       "    </tr>\n",
       "  </thead>\n",
       "  <tbody>\n",
       "    <tr>\n",
       "      <th>0</th>\n",
       "      <td>XQxgAYj3klVKjR3oxPPXYYFp4soD4TuBghkhMTD4oTw=</td>\n",
       "      <td>1</td>\n",
       "      <td>0</td>\n",
       "      <td>NaN</td>\n",
       "      <td>7</td>\n",
       "      <td>20110820</td>\n",
       "      <td>20170920</td>\n",
       "    </tr>\n",
       "    <tr>\n",
       "      <th>1</th>\n",
       "      <td>UizsfmJb9mV54qE9hCYyU07Va97c0lCRLEQX3ae+ztM=</td>\n",
       "      <td>1</td>\n",
       "      <td>0</td>\n",
       "      <td>NaN</td>\n",
       "      <td>7</td>\n",
       "      <td>20150628</td>\n",
       "      <td>20170622</td>\n",
       "    </tr>\n",
       "    <tr>\n",
       "      <th>2</th>\n",
       "      <td>D8nEhsIOBSoE6VthTaqDX8U6lqjJ7dLdr72mOyLya2A=</td>\n",
       "      <td>1</td>\n",
       "      <td>0</td>\n",
       "      <td>NaN</td>\n",
       "      <td>4</td>\n",
       "      <td>20160411</td>\n",
       "      <td>20170712</td>\n",
       "    </tr>\n",
       "    <tr>\n",
       "      <th>3</th>\n",
       "      <td>mCuD+tZ1hERA/o5GPqk38e041J8ZsBaLcu7nGoIIvhI=</td>\n",
       "      <td>1</td>\n",
       "      <td>0</td>\n",
       "      <td>NaN</td>\n",
       "      <td>9</td>\n",
       "      <td>20150906</td>\n",
       "      <td>20150907</td>\n",
       "    </tr>\n",
       "    <tr>\n",
       "      <th>4</th>\n",
       "      <td>q4HRBfVSssAFS9iRfxWrohxuk9kCYMKjHOEagUMV6rQ=</td>\n",
       "      <td>1</td>\n",
       "      <td>0</td>\n",
       "      <td>NaN</td>\n",
       "      <td>4</td>\n",
       "      <td>20170126</td>\n",
       "      <td>20170613</td>\n",
       "    </tr>\n",
       "  </tbody>\n",
       "</table>\n",
       "</div>"
      ],
      "text/plain": [
       "                                           msno  city  bd gender  \\\n",
       "0  XQxgAYj3klVKjR3oxPPXYYFp4soD4TuBghkhMTD4oTw=     1   0    NaN   \n",
       "1  UizsfmJb9mV54qE9hCYyU07Va97c0lCRLEQX3ae+ztM=     1   0    NaN   \n",
       "2  D8nEhsIOBSoE6VthTaqDX8U6lqjJ7dLdr72mOyLya2A=     1   0    NaN   \n",
       "3  mCuD+tZ1hERA/o5GPqk38e041J8ZsBaLcu7nGoIIvhI=     1   0    NaN   \n",
       "4  q4HRBfVSssAFS9iRfxWrohxuk9kCYMKjHOEagUMV6rQ=     1   0    NaN   \n",
       "\n",
       "   registered_via  registration_init_time  expiration_date  \n",
       "0               7                20110820         20170920  \n",
       "1               7                20150628         20170622  \n",
       "2               4                20160411         20170712  \n",
       "3               9                20150906         20150907  \n",
       "4               4                20170126         20170613  "
      ]
     },
     "execution_count": 5,
     "metadata": {},
     "output_type": "execute_result"
    }
   ],
   "source": [
    "members_data = pd.read_csv(r\"/kaggle/working/members.csv\")\n",
    "members_data.head()"
   ]
  },
  {
   "cell_type": "code",
   "execution_count": 6,
   "id": "f7a80a58",
   "metadata": {
    "execution": {
     "iopub.execute_input": "2024-02-17T10:44:49.542556Z",
     "iopub.status.busy": "2024-02-17T10:44:49.542244Z",
     "iopub.status.idle": "2024-02-17T10:44:55.447552Z",
     "shell.execute_reply": "2024-02-17T10:44:55.446598Z"
    },
    "papermill": {
     "duration": 5.929503,
     "end_time": "2024-02-17T10:44:55.449599",
     "exception": false,
     "start_time": "2024-02-17T10:44:49.520096",
     "status": "completed"
    },
    "tags": []
   },
   "outputs": [
    {
     "data": {
      "text/html": [
       "<div>\n",
       "<style scoped>\n",
       "    .dataframe tbody tr th:only-of-type {\n",
       "        vertical-align: middle;\n",
       "    }\n",
       "\n",
       "    .dataframe tbody tr th {\n",
       "        vertical-align: top;\n",
       "    }\n",
       "\n",
       "    .dataframe thead th {\n",
       "        text-align: right;\n",
       "    }\n",
       "</style>\n",
       "<table border=\"1\" class=\"dataframe\">\n",
       "  <thead>\n",
       "    <tr style=\"text-align: right;\">\n",
       "      <th></th>\n",
       "      <th>song_id</th>\n",
       "      <th>song_length</th>\n",
       "      <th>genre_ids</th>\n",
       "      <th>artist_name</th>\n",
       "      <th>composer</th>\n",
       "      <th>lyricist</th>\n",
       "      <th>language</th>\n",
       "    </tr>\n",
       "  </thead>\n",
       "  <tbody>\n",
       "    <tr>\n",
       "      <th>0</th>\n",
       "      <td>CXoTN1eb7AI+DntdU1vbcwGRV4SCIDxZu+YD8JP8r4E=</td>\n",
       "      <td>247640</td>\n",
       "      <td>465</td>\n",
       "      <td>張信哲 (Jeff Chang)</td>\n",
       "      <td>董貞</td>\n",
       "      <td>何啟弘</td>\n",
       "      <td>3.0</td>\n",
       "    </tr>\n",
       "    <tr>\n",
       "      <th>1</th>\n",
       "      <td>o0kFgae9QtnYgRkVPqLJwa05zIhRlUjfF7O1tDw0ZDU=</td>\n",
       "      <td>197328</td>\n",
       "      <td>444</td>\n",
       "      <td>BLACKPINK</td>\n",
       "      <td>TEDDY|  FUTURE BOUNCE|  Bekuh BOOM</td>\n",
       "      <td>TEDDY</td>\n",
       "      <td>31.0</td>\n",
       "    </tr>\n",
       "    <tr>\n",
       "      <th>2</th>\n",
       "      <td>DwVvVurfpuz+XPuFvucclVQEyPqcpUkHR0ne1RQzPs0=</td>\n",
       "      <td>231781</td>\n",
       "      <td>465</td>\n",
       "      <td>SUPER JUNIOR</td>\n",
       "      <td>NaN</td>\n",
       "      <td>NaN</td>\n",
       "      <td>31.0</td>\n",
       "    </tr>\n",
       "    <tr>\n",
       "      <th>3</th>\n",
       "      <td>dKMBWoZyScdxSkihKG+Vf47nc18N9q4m58+b4e7dSSE=</td>\n",
       "      <td>273554</td>\n",
       "      <td>465</td>\n",
       "      <td>S.H.E</td>\n",
       "      <td>湯小康</td>\n",
       "      <td>徐世珍</td>\n",
       "      <td>3.0</td>\n",
       "    </tr>\n",
       "    <tr>\n",
       "      <th>4</th>\n",
       "      <td>W3bqWd3T+VeHFzHAUfARgW9AvVRaF4N5Yzm4Mr6Eo/o=</td>\n",
       "      <td>140329</td>\n",
       "      <td>726</td>\n",
       "      <td>貴族精選</td>\n",
       "      <td>Traditional</td>\n",
       "      <td>Traditional</td>\n",
       "      <td>52.0</td>\n",
       "    </tr>\n",
       "  </tbody>\n",
       "</table>\n",
       "</div>"
      ],
      "text/plain": [
       "                                        song_id  song_length genre_ids  \\\n",
       "0  CXoTN1eb7AI+DntdU1vbcwGRV4SCIDxZu+YD8JP8r4E=       247640       465   \n",
       "1  o0kFgae9QtnYgRkVPqLJwa05zIhRlUjfF7O1tDw0ZDU=       197328       444   \n",
       "2  DwVvVurfpuz+XPuFvucclVQEyPqcpUkHR0ne1RQzPs0=       231781       465   \n",
       "3  dKMBWoZyScdxSkihKG+Vf47nc18N9q4m58+b4e7dSSE=       273554       465   \n",
       "4  W3bqWd3T+VeHFzHAUfARgW9AvVRaF4N5Yzm4Mr6Eo/o=       140329       726   \n",
       "\n",
       "        artist_name                            composer     lyricist  language  \n",
       "0  張信哲 (Jeff Chang)                                  董貞          何啟弘       3.0  \n",
       "1         BLACKPINK  TEDDY|  FUTURE BOUNCE|  Bekuh BOOM        TEDDY      31.0  \n",
       "2      SUPER JUNIOR                                 NaN          NaN      31.0  \n",
       "3             S.H.E                                 湯小康          徐世珍       3.0  \n",
       "4              貴族精選                         Traditional  Traditional      52.0  "
      ]
     },
     "execution_count": 6,
     "metadata": {},
     "output_type": "execute_result"
    }
   ],
   "source": [
    "songs_data = pd.read_csv(r\"/kaggle/working/songs.csv\")\n",
    "songs_data.head()"
   ]
  },
  {
   "cell_type": "code",
   "execution_count": 7,
   "id": "4d635227",
   "metadata": {
    "execution": {
     "iopub.execute_input": "2024-02-17T10:44:55.493902Z",
     "iopub.status.busy": "2024-02-17T10:44:55.493594Z",
     "iopub.status.idle": "2024-02-17T10:45:05.252566Z",
     "shell.execute_reply": "2024-02-17T10:45:05.251741Z"
    },
    "papermill": {
     "duration": 9.783403,
     "end_time": "2024-02-17T10:45:05.254988",
     "exception": false,
     "start_time": "2024-02-17T10:44:55.471585",
     "status": "completed"
    },
    "tags": []
   },
   "outputs": [],
   "source": [
    "\n",
    "train_df = pd.merge(train_data, songs_data, on='song_id', how='left')\n",
    "del songs_data\n",
    "\n",
    "\n",
    "train_df = pd.merge(train_data, members_data, on='msno', how='left')\n",
    "del members_data"
   ]
  },
  {
   "cell_type": "code",
   "execution_count": 8,
   "id": "8fd0baff",
   "metadata": {
    "execution": {
     "iopub.execute_input": "2024-02-17T10:45:05.300553Z",
     "iopub.status.busy": "2024-02-17T10:45:05.300011Z",
     "iopub.status.idle": "2024-02-17T10:45:05.305595Z",
     "shell.execute_reply": "2024-02-17T10:45:05.304788Z"
    },
    "papermill": {
     "duration": 0.030547,
     "end_time": "2024-02-17T10:45:05.307617",
     "exception": false,
     "start_time": "2024-02-17T10:45:05.277070",
     "status": "completed"
    },
    "tags": []
   },
   "outputs": [
    {
     "data": {
      "text/plain": [
       "(7377418, 12)"
      ]
     },
     "execution_count": 8,
     "metadata": {},
     "output_type": "execute_result"
    }
   ],
   "source": [
    "train_df.shape"
   ]
  },
  {
   "cell_type": "code",
   "execution_count": 9,
   "id": "7e56c31c",
   "metadata": {
    "execution": {
     "iopub.execute_input": "2024-02-17T10:45:05.351980Z",
     "iopub.status.busy": "2024-02-17T10:45:05.351711Z",
     "iopub.status.idle": "2024-02-17T10:45:05.365263Z",
     "shell.execute_reply": "2024-02-17T10:45:05.364419Z"
    },
    "papermill": {
     "duration": 0.038453,
     "end_time": "2024-02-17T10:45:05.367152",
     "exception": false,
     "start_time": "2024-02-17T10:45:05.328699",
     "status": "completed"
    },
    "tags": []
   },
   "outputs": [
    {
     "data": {
      "text/html": [
       "<div>\n",
       "<style scoped>\n",
       "    .dataframe tbody tr th:only-of-type {\n",
       "        vertical-align: middle;\n",
       "    }\n",
       "\n",
       "    .dataframe tbody tr th {\n",
       "        vertical-align: top;\n",
       "    }\n",
       "\n",
       "    .dataframe thead th {\n",
       "        text-align: right;\n",
       "    }\n",
       "</style>\n",
       "<table border=\"1\" class=\"dataframe\">\n",
       "  <thead>\n",
       "    <tr style=\"text-align: right;\">\n",
       "      <th></th>\n",
       "      <th>msno</th>\n",
       "      <th>song_id</th>\n",
       "      <th>source_system_tab</th>\n",
       "      <th>source_screen_name</th>\n",
       "      <th>source_type</th>\n",
       "      <th>target</th>\n",
       "      <th>city</th>\n",
       "      <th>bd</th>\n",
       "      <th>gender</th>\n",
       "      <th>registered_via</th>\n",
       "      <th>registration_init_time</th>\n",
       "      <th>expiration_date</th>\n",
       "    </tr>\n",
       "  </thead>\n",
       "  <tbody>\n",
       "    <tr>\n",
       "      <th>0</th>\n",
       "      <td>FGtllVqz18RPiwJj/edr2gV78zirAiY/9SmYvia+kCg=</td>\n",
       "      <td>BBzumQNXUHKdEBOB7mAJuzok+IJA1c2Ryg/yzTF6tik=</td>\n",
       "      <td>explore</td>\n",
       "      <td>Explore</td>\n",
       "      <td>online-playlist</td>\n",
       "      <td>1</td>\n",
       "      <td>1</td>\n",
       "      <td>0</td>\n",
       "      <td>NaN</td>\n",
       "      <td>7</td>\n",
       "      <td>20120102</td>\n",
       "      <td>20171005</td>\n",
       "    </tr>\n",
       "    <tr>\n",
       "      <th>1</th>\n",
       "      <td>Xumu+NIjS6QYVxDS4/t3SawvJ7viT9hPKXmf0RtLNx8=</td>\n",
       "      <td>bhp/MpSNoqoxOIB+/l8WPqu6jldth4DIpCm3ayXnJqM=</td>\n",
       "      <td>my library</td>\n",
       "      <td>Local playlist more</td>\n",
       "      <td>local-playlist</td>\n",
       "      <td>1</td>\n",
       "      <td>13</td>\n",
       "      <td>24</td>\n",
       "      <td>female</td>\n",
       "      <td>9</td>\n",
       "      <td>20110525</td>\n",
       "      <td>20170911</td>\n",
       "    </tr>\n",
       "    <tr>\n",
       "      <th>2</th>\n",
       "      <td>Xumu+NIjS6QYVxDS4/t3SawvJ7viT9hPKXmf0RtLNx8=</td>\n",
       "      <td>JNWfrrC7zNN7BdMpsISKa4Mw+xVJYNnxXh3/Epw7QgY=</td>\n",
       "      <td>my library</td>\n",
       "      <td>Local playlist more</td>\n",
       "      <td>local-playlist</td>\n",
       "      <td>1</td>\n",
       "      <td>13</td>\n",
       "      <td>24</td>\n",
       "      <td>female</td>\n",
       "      <td>9</td>\n",
       "      <td>20110525</td>\n",
       "      <td>20170911</td>\n",
       "    </tr>\n",
       "    <tr>\n",
       "      <th>3</th>\n",
       "      <td>Xumu+NIjS6QYVxDS4/t3SawvJ7viT9hPKXmf0RtLNx8=</td>\n",
       "      <td>2A87tzfnJTSWqD7gIZHisolhe4DMdzkbd6LzO1KHjNs=</td>\n",
       "      <td>my library</td>\n",
       "      <td>Local playlist more</td>\n",
       "      <td>local-playlist</td>\n",
       "      <td>1</td>\n",
       "      <td>13</td>\n",
       "      <td>24</td>\n",
       "      <td>female</td>\n",
       "      <td>9</td>\n",
       "      <td>20110525</td>\n",
       "      <td>20170911</td>\n",
       "    </tr>\n",
       "    <tr>\n",
       "      <th>4</th>\n",
       "      <td>FGtllVqz18RPiwJj/edr2gV78zirAiY/9SmYvia+kCg=</td>\n",
       "      <td>3qm6XTZ6MOCU11x8FIVbAGH5l5uMkT3/ZalWG1oo2Gc=</td>\n",
       "      <td>explore</td>\n",
       "      <td>Explore</td>\n",
       "      <td>online-playlist</td>\n",
       "      <td>1</td>\n",
       "      <td>1</td>\n",
       "      <td>0</td>\n",
       "      <td>NaN</td>\n",
       "      <td>7</td>\n",
       "      <td>20120102</td>\n",
       "      <td>20171005</td>\n",
       "    </tr>\n",
       "  </tbody>\n",
       "</table>\n",
       "</div>"
      ],
      "text/plain": [
       "                                           msno  \\\n",
       "0  FGtllVqz18RPiwJj/edr2gV78zirAiY/9SmYvia+kCg=   \n",
       "1  Xumu+NIjS6QYVxDS4/t3SawvJ7viT9hPKXmf0RtLNx8=   \n",
       "2  Xumu+NIjS6QYVxDS4/t3SawvJ7viT9hPKXmf0RtLNx8=   \n",
       "3  Xumu+NIjS6QYVxDS4/t3SawvJ7viT9hPKXmf0RtLNx8=   \n",
       "4  FGtllVqz18RPiwJj/edr2gV78zirAiY/9SmYvia+kCg=   \n",
       "\n",
       "                                        song_id source_system_tab  \\\n",
       "0  BBzumQNXUHKdEBOB7mAJuzok+IJA1c2Ryg/yzTF6tik=           explore   \n",
       "1  bhp/MpSNoqoxOIB+/l8WPqu6jldth4DIpCm3ayXnJqM=        my library   \n",
       "2  JNWfrrC7zNN7BdMpsISKa4Mw+xVJYNnxXh3/Epw7QgY=        my library   \n",
       "3  2A87tzfnJTSWqD7gIZHisolhe4DMdzkbd6LzO1KHjNs=        my library   \n",
       "4  3qm6XTZ6MOCU11x8FIVbAGH5l5uMkT3/ZalWG1oo2Gc=           explore   \n",
       "\n",
       "    source_screen_name      source_type  target  city  bd  gender  \\\n",
       "0              Explore  online-playlist       1     1   0     NaN   \n",
       "1  Local playlist more   local-playlist       1    13  24  female   \n",
       "2  Local playlist more   local-playlist       1    13  24  female   \n",
       "3  Local playlist more   local-playlist       1    13  24  female   \n",
       "4              Explore  online-playlist       1     1   0     NaN   \n",
       "\n",
       "   registered_via  registration_init_time  expiration_date  \n",
       "0               7                20120102         20171005  \n",
       "1               9                20110525         20170911  \n",
       "2               9                20110525         20170911  \n",
       "3               9                20110525         20170911  \n",
       "4               7                20120102         20171005  "
      ]
     },
     "execution_count": 9,
     "metadata": {},
     "output_type": "execute_result"
    }
   ],
   "source": [
    "train_df.head()"
   ]
  },
  {
   "cell_type": "code",
   "execution_count": 10,
   "id": "44d4a673",
   "metadata": {
    "execution": {
     "iopub.execute_input": "2024-02-17T10:45:05.411986Z",
     "iopub.status.busy": "2024-02-17T10:45:05.411738Z",
     "iopub.status.idle": "2024-02-17T10:45:05.428567Z",
     "shell.execute_reply": "2024-02-17T10:45:05.427653Z"
    },
    "papermill": {
     "duration": 0.041483,
     "end_time": "2024-02-17T10:45:05.430508",
     "exception": false,
     "start_time": "2024-02-17T10:45:05.389025",
     "status": "completed"
    },
    "tags": []
   },
   "outputs": [
    {
     "name": "stdout",
     "output_type": "stream",
     "text": [
      "<class 'pandas.core.frame.DataFrame'>\n",
      "RangeIndex: 7377418 entries, 0 to 7377417\n",
      "Data columns (total 12 columns):\n",
      " #   Column                  Dtype \n",
      "---  ------                  ----- \n",
      " 0   msno                    object\n",
      " 1   song_id                 object\n",
      " 2   source_system_tab       object\n",
      " 3   source_screen_name      object\n",
      " 4   source_type             object\n",
      " 5   target                  int64 \n",
      " 6   city                    int64 \n",
      " 7   bd                      int64 \n",
      " 8   gender                  object\n",
      " 9   registered_via          int64 \n",
      " 10  registration_init_time  int64 \n",
      " 11  expiration_date         int64 \n",
      "dtypes: int64(6), object(6)\n",
      "memory usage: 675.4+ MB\n"
     ]
    }
   ],
   "source": [
    "train_df.info()"
   ]
  },
  {
   "cell_type": "code",
   "execution_count": 11,
   "id": "ef3d708f",
   "metadata": {
    "execution": {
     "iopub.execute_input": "2024-02-17T10:45:05.516268Z",
     "iopub.status.busy": "2024-02-17T10:45:05.515910Z",
     "iopub.status.idle": "2024-02-17T10:45:05.521925Z",
     "shell.execute_reply": "2024-02-17T10:45:05.521186Z"
    },
    "papermill": {
     "duration": 0.030828,
     "end_time": "2024-02-17T10:45:05.523670",
     "exception": false,
     "start_time": "2024-02-17T10:45:05.492842",
     "status": "completed"
    },
    "tags": []
   },
   "outputs": [],
   "source": [
    "def find_dirty_values(data):\n",
    "    dtypes = pd.DataFrame(data.dtypes,columns=[\"Data Type\"])\n",
    "    dtypes[\"Unique Values\"]=data.nunique().sort_values(ascending=True)\n",
    "    dtypes[\"Null Values\"]=data.isnull().sum()\n",
    "    dtypes[\"% null Values\"]=data.isnull().sum()/len(data)\n",
    "    return dtypes.sort_values(by=\"Null Values\" , ascending=False).style.background_gradient(cmap='YlOrRd',axis=0)"
   ]
  },
  {
   "cell_type": "code",
   "execution_count": 12,
   "id": "937002ac",
   "metadata": {
    "execution": {
     "iopub.execute_input": "2024-02-17T10:45:05.569341Z",
     "iopub.status.busy": "2024-02-17T10:45:05.569042Z",
     "iopub.status.idle": "2024-02-17T10:45:18.050427Z",
     "shell.execute_reply": "2024-02-17T10:45:18.049529Z"
    },
    "papermill": {
     "duration": 12.505982,
     "end_time": "2024-02-17T10:45:18.052420",
     "exception": false,
     "start_time": "2024-02-17T10:45:05.546438",
     "status": "completed"
    },
    "tags": []
   },
   "outputs": [
    {
     "data": {
      "text/html": [
       "<style type=\"text/css\">\n",
       "#T_f0831_row0_col1, #T_f0831_row1_col1, #T_f0831_row2_col1, #T_f0831_row3_col1, #T_f0831_row4_col2, #T_f0831_row4_col3, #T_f0831_row5_col2, #T_f0831_row5_col3, #T_f0831_row6_col1, #T_f0831_row6_col2, #T_f0831_row6_col3, #T_f0831_row7_col1, #T_f0831_row7_col2, #T_f0831_row7_col3, #T_f0831_row8_col1, #T_f0831_row8_col2, #T_f0831_row8_col3, #T_f0831_row9_col1, #T_f0831_row9_col2, #T_f0831_row9_col3, #T_f0831_row10_col2, #T_f0831_row10_col3, #T_f0831_row11_col1, #T_f0831_row11_col2, #T_f0831_row11_col3 {\n",
       "  background-color: #ffffcc;\n",
       "  color: #000000;\n",
       "}\n",
       "#T_f0831_row0_col2, #T_f0831_row0_col3, #T_f0831_row5_col1 {\n",
       "  background-color: #800026;\n",
       "  color: #f1f1f1;\n",
       "}\n",
       "#T_f0831_row1_col2, #T_f0831_row1_col3 {\n",
       "  background-color: #ffeb9c;\n",
       "  color: #000000;\n",
       "}\n",
       "#T_f0831_row2_col2, #T_f0831_row2_col3, #T_f0831_row10_col1 {\n",
       "  background-color: #fffec9;\n",
       "  color: #000000;\n",
       "}\n",
       "#T_f0831_row3_col2, #T_f0831_row3_col3 {\n",
       "  background-color: #fffecb;\n",
       "  color: #000000;\n",
       "}\n",
       "#T_f0831_row4_col1 {\n",
       "  background-color: #fff3af;\n",
       "  color: #000000;\n",
       "}\n",
       "</style>\n",
       "<table id=\"T_f0831\">\n",
       "  <thead>\n",
       "    <tr>\n",
       "      <th class=\"blank level0\" >&nbsp;</th>\n",
       "      <th id=\"T_f0831_level0_col0\" class=\"col_heading level0 col0\" >Data Type</th>\n",
       "      <th id=\"T_f0831_level0_col1\" class=\"col_heading level0 col1\" >Unique Values</th>\n",
       "      <th id=\"T_f0831_level0_col2\" class=\"col_heading level0 col2\" >Null Values</th>\n",
       "      <th id=\"T_f0831_level0_col3\" class=\"col_heading level0 col3\" >% null Values</th>\n",
       "    </tr>\n",
       "  </thead>\n",
       "  <tbody>\n",
       "    <tr>\n",
       "      <th id=\"T_f0831_level0_row0\" class=\"row_heading level0 row0\" >gender</th>\n",
       "      <td id=\"T_f0831_row0_col0\" class=\"data row0 col0\" >object</td>\n",
       "      <td id=\"T_f0831_row0_col1\" class=\"data row0 col1\" >2</td>\n",
       "      <td id=\"T_f0831_row0_col2\" class=\"data row0 col2\" >2961479</td>\n",
       "      <td id=\"T_f0831_row0_col3\" class=\"data row0 col3\" >0.401425</td>\n",
       "    </tr>\n",
       "    <tr>\n",
       "      <th id=\"T_f0831_level0_row1\" class=\"row_heading level0 row1\" >source_screen_name</th>\n",
       "      <td id=\"T_f0831_row1_col0\" class=\"data row1 col0\" >object</td>\n",
       "      <td id=\"T_f0831_row1_col1\" class=\"data row1 col1\" >20</td>\n",
       "      <td id=\"T_f0831_row1_col2\" class=\"data row1 col2\" >414804</td>\n",
       "      <td id=\"T_f0831_row1_col3\" class=\"data row1 col3\" >0.056226</td>\n",
       "    </tr>\n",
       "    <tr>\n",
       "      <th id=\"T_f0831_level0_row2\" class=\"row_heading level0 row2\" >source_system_tab</th>\n",
       "      <td id=\"T_f0831_row2_col0\" class=\"data row2 col0\" >object</td>\n",
       "      <td id=\"T_f0831_row2_col1\" class=\"data row2 col1\" >8</td>\n",
       "      <td id=\"T_f0831_row2_col2\" class=\"data row2 col2\" >24849</td>\n",
       "      <td id=\"T_f0831_row2_col3\" class=\"data row2 col3\" >0.003368</td>\n",
       "    </tr>\n",
       "    <tr>\n",
       "      <th id=\"T_f0831_level0_row3\" class=\"row_heading level0 row3\" >source_type</th>\n",
       "      <td id=\"T_f0831_row3_col0\" class=\"data row3 col0\" >object</td>\n",
       "      <td id=\"T_f0831_row3_col1\" class=\"data row3 col1\" >12</td>\n",
       "      <td id=\"T_f0831_row3_col2\" class=\"data row3 col2\" >21539</td>\n",
       "      <td id=\"T_f0831_row3_col3\" class=\"data row3 col3\" >0.002920</td>\n",
       "    </tr>\n",
       "    <tr>\n",
       "      <th id=\"T_f0831_level0_row4\" class=\"row_heading level0 row4\" >msno</th>\n",
       "      <td id=\"T_f0831_row4_col0\" class=\"data row4 col0\" >object</td>\n",
       "      <td id=\"T_f0831_row4_col1\" class=\"data row4 col1\" >30755</td>\n",
       "      <td id=\"T_f0831_row4_col2\" class=\"data row4 col2\" >0</td>\n",
       "      <td id=\"T_f0831_row4_col3\" class=\"data row4 col3\" >0.000000</td>\n",
       "    </tr>\n",
       "    <tr>\n",
       "      <th id=\"T_f0831_level0_row5\" class=\"row_heading level0 row5\" >song_id</th>\n",
       "      <td id=\"T_f0831_row5_col0\" class=\"data row5 col0\" >object</td>\n",
       "      <td id=\"T_f0831_row5_col1\" class=\"data row5 col1\" >359966</td>\n",
       "      <td id=\"T_f0831_row5_col2\" class=\"data row5 col2\" >0</td>\n",
       "      <td id=\"T_f0831_row5_col3\" class=\"data row5 col3\" >0.000000</td>\n",
       "    </tr>\n",
       "    <tr>\n",
       "      <th id=\"T_f0831_level0_row6\" class=\"row_heading level0 row6\" >target</th>\n",
       "      <td id=\"T_f0831_row6_col0\" class=\"data row6 col0\" >int64</td>\n",
       "      <td id=\"T_f0831_row6_col1\" class=\"data row6 col1\" >2</td>\n",
       "      <td id=\"T_f0831_row6_col2\" class=\"data row6 col2\" >0</td>\n",
       "      <td id=\"T_f0831_row6_col3\" class=\"data row6 col3\" >0.000000</td>\n",
       "    </tr>\n",
       "    <tr>\n",
       "      <th id=\"T_f0831_level0_row7\" class=\"row_heading level0 row7\" >city</th>\n",
       "      <td id=\"T_f0831_row7_col0\" class=\"data row7 col0\" >int64</td>\n",
       "      <td id=\"T_f0831_row7_col1\" class=\"data row7 col1\" >21</td>\n",
       "      <td id=\"T_f0831_row7_col2\" class=\"data row7 col2\" >0</td>\n",
       "      <td id=\"T_f0831_row7_col3\" class=\"data row7 col3\" >0.000000</td>\n",
       "    </tr>\n",
       "    <tr>\n",
       "      <th id=\"T_f0831_level0_row8\" class=\"row_heading level0 row8\" >bd</th>\n",
       "      <td id=\"T_f0831_row8_col0\" class=\"data row8 col0\" >int64</td>\n",
       "      <td id=\"T_f0831_row8_col1\" class=\"data row8 col1\" >92</td>\n",
       "      <td id=\"T_f0831_row8_col2\" class=\"data row8 col2\" >0</td>\n",
       "      <td id=\"T_f0831_row8_col3\" class=\"data row8 col3\" >0.000000</td>\n",
       "    </tr>\n",
       "    <tr>\n",
       "      <th id=\"T_f0831_level0_row9\" class=\"row_heading level0 row9\" >registered_via</th>\n",
       "      <td id=\"T_f0831_row9_col0\" class=\"data row9 col0\" >int64</td>\n",
       "      <td id=\"T_f0831_row9_col1\" class=\"data row9 col1\" >5</td>\n",
       "      <td id=\"T_f0831_row9_col2\" class=\"data row9 col2\" >0</td>\n",
       "      <td id=\"T_f0831_row9_col3\" class=\"data row9 col3\" >0.000000</td>\n",
       "    </tr>\n",
       "    <tr>\n",
       "      <th id=\"T_f0831_level0_row10\" class=\"row_heading level0 row10\" >registration_init_time</th>\n",
       "      <td id=\"T_f0831_row10_col0\" class=\"data row10 col0\" >int64</td>\n",
       "      <td id=\"T_f0831_row10_col1\" class=\"data row10 col1\" >3811</td>\n",
       "      <td id=\"T_f0831_row10_col2\" class=\"data row10 col2\" >0</td>\n",
       "      <td id=\"T_f0831_row10_col3\" class=\"data row10 col3\" >0.000000</td>\n",
       "    </tr>\n",
       "    <tr>\n",
       "      <th id=\"T_f0831_level0_row11\" class=\"row_heading level0 row11\" >expiration_date</th>\n",
       "      <td id=\"T_f0831_row11_col0\" class=\"data row11 col0\" >int64</td>\n",
       "      <td id=\"T_f0831_row11_col1\" class=\"data row11 col1\" >1395</td>\n",
       "      <td id=\"T_f0831_row11_col2\" class=\"data row11 col2\" >0</td>\n",
       "      <td id=\"T_f0831_row11_col3\" class=\"data row11 col3\" >0.000000</td>\n",
       "    </tr>\n",
       "  </tbody>\n",
       "</table>\n"
      ],
      "text/plain": [
       "<pandas.io.formats.style.Styler at 0x7a5015baf670>"
      ]
     },
     "execution_count": 12,
     "metadata": {},
     "output_type": "execute_result"
    }
   ],
   "source": [
    "result = find_dirty_values(train_df)\n",
    "result"
   ]
  },
  {
   "cell_type": "markdown",
   "id": "2c1ccb80",
   "metadata": {
    "papermill": {
     "duration": 0.0218,
     "end_time": "2024-02-17T10:45:18.096602",
     "exception": false,
     "start_time": "2024-02-17T10:45:18.074802",
     "status": "completed"
    },
    "tags": []
   },
   "source": [
    "## Filling Missing Values"
   ]
  },
  {
   "cell_type": "code",
   "execution_count": 13,
   "id": "61a8f71a",
   "metadata": {
    "execution": {
     "iopub.execute_input": "2024-02-17T10:45:18.142291Z",
     "iopub.status.busy": "2024-02-17T10:45:18.141903Z",
     "iopub.status.idle": "2024-02-17T10:45:18.147594Z",
     "shell.execute_reply": "2024-02-17T10:45:18.146562Z"
    },
    "papermill": {
     "duration": 0.030814,
     "end_time": "2024-02-17T10:45:18.149531",
     "exception": false,
     "start_time": "2024-02-17T10:45:18.118717",
     "status": "completed"
    },
    "tags": []
   },
   "outputs": [],
   "source": [
    "def handling_missing_values(dataframe):\n",
    "    cat_cols = dataframe.select_dtypes(include='O').columns\n",
    "    num_cols = dataframe.select_dtypes(include=(np.number)).columns\n",
    "    for col in cat_cols:\n",
    "        dataframe[col] = dataframe[col].fillna('UnKnown')\n",
    "    for col in num_cols:\n",
    "        dataframe[col] = dataframe[col].interpolate(method='linear')\n",
    "    return dataframe\n"
   ]
  },
  {
   "cell_type": "code",
   "execution_count": 14,
   "id": "a10a3766",
   "metadata": {
    "execution": {
     "iopub.execute_input": "2024-02-17T10:45:18.194539Z",
     "iopub.status.busy": "2024-02-17T10:45:18.194237Z",
     "iopub.status.idle": "2024-02-17T10:45:27.032962Z",
     "shell.execute_reply": "2024-02-17T10:45:27.032187Z"
    },
    "papermill": {
     "duration": 8.863997,
     "end_time": "2024-02-17T10:45:27.035392",
     "exception": false,
     "start_time": "2024-02-17T10:45:18.171395",
     "status": "completed"
    },
    "tags": []
   },
   "outputs": [],
   "source": [
    "train_df = handling_missing_values(train_df)"
   ]
  },
  {
   "cell_type": "code",
   "execution_count": 15,
   "id": "cbfa07c5",
   "metadata": {
    "execution": {
     "iopub.execute_input": "2024-02-17T10:45:27.081515Z",
     "iopub.status.busy": "2024-02-17T10:45:27.081019Z",
     "iopub.status.idle": "2024-02-17T10:45:39.641319Z",
     "shell.execute_reply": "2024-02-17T10:45:39.640412Z"
    },
    "papermill": {
     "duration": 12.585526,
     "end_time": "2024-02-17T10:45:39.643424",
     "exception": false,
     "start_time": "2024-02-17T10:45:27.057898",
     "status": "completed"
    },
    "tags": []
   },
   "outputs": [
    {
     "data": {
      "text/html": [
       "<style type=\"text/css\">\n",
       "#T_260fb_row0_col1 {\n",
       "  background-color: #fff3af;\n",
       "  color: #000000;\n",
       "}\n",
       "#T_260fb_row0_col2, #T_260fb_row0_col3, #T_260fb_row1_col2, #T_260fb_row1_col3, #T_260fb_row2_col1, #T_260fb_row2_col2, #T_260fb_row2_col3, #T_260fb_row3_col1, #T_260fb_row3_col2, #T_260fb_row3_col3, #T_260fb_row4_col1, #T_260fb_row4_col2, #T_260fb_row4_col3, #T_260fb_row5_col1, #T_260fb_row5_col2, #T_260fb_row5_col3, #T_260fb_row6_col1, #T_260fb_row6_col2, #T_260fb_row6_col3, #T_260fb_row7_col1, #T_260fb_row7_col2, #T_260fb_row7_col3, #T_260fb_row8_col1, #T_260fb_row8_col2, #T_260fb_row8_col3, #T_260fb_row9_col1, #T_260fb_row9_col2, #T_260fb_row9_col3, #T_260fb_row10_col2, #T_260fb_row10_col3, #T_260fb_row11_col1, #T_260fb_row11_col2, #T_260fb_row11_col3 {\n",
       "  background-color: #ffffcc;\n",
       "  color: #000000;\n",
       "}\n",
       "#T_260fb_row1_col1 {\n",
       "  background-color: #800026;\n",
       "  color: #f1f1f1;\n",
       "}\n",
       "#T_260fb_row10_col1 {\n",
       "  background-color: #fffec9;\n",
       "  color: #000000;\n",
       "}\n",
       "</style>\n",
       "<table id=\"T_260fb\">\n",
       "  <thead>\n",
       "    <tr>\n",
       "      <th class=\"blank level0\" >&nbsp;</th>\n",
       "      <th id=\"T_260fb_level0_col0\" class=\"col_heading level0 col0\" >Data Type</th>\n",
       "      <th id=\"T_260fb_level0_col1\" class=\"col_heading level0 col1\" >Unique Values</th>\n",
       "      <th id=\"T_260fb_level0_col2\" class=\"col_heading level0 col2\" >Null Values</th>\n",
       "      <th id=\"T_260fb_level0_col3\" class=\"col_heading level0 col3\" >% null Values</th>\n",
       "    </tr>\n",
       "  </thead>\n",
       "  <tbody>\n",
       "    <tr>\n",
       "      <th id=\"T_260fb_level0_row0\" class=\"row_heading level0 row0\" >msno</th>\n",
       "      <td id=\"T_260fb_row0_col0\" class=\"data row0 col0\" >object</td>\n",
       "      <td id=\"T_260fb_row0_col1\" class=\"data row0 col1\" >30755</td>\n",
       "      <td id=\"T_260fb_row0_col2\" class=\"data row0 col2\" >0</td>\n",
       "      <td id=\"T_260fb_row0_col3\" class=\"data row0 col3\" >0.000000</td>\n",
       "    </tr>\n",
       "    <tr>\n",
       "      <th id=\"T_260fb_level0_row1\" class=\"row_heading level0 row1\" >song_id</th>\n",
       "      <td id=\"T_260fb_row1_col0\" class=\"data row1 col0\" >object</td>\n",
       "      <td id=\"T_260fb_row1_col1\" class=\"data row1 col1\" >359966</td>\n",
       "      <td id=\"T_260fb_row1_col2\" class=\"data row1 col2\" >0</td>\n",
       "      <td id=\"T_260fb_row1_col3\" class=\"data row1 col3\" >0.000000</td>\n",
       "    </tr>\n",
       "    <tr>\n",
       "      <th id=\"T_260fb_level0_row2\" class=\"row_heading level0 row2\" >source_system_tab</th>\n",
       "      <td id=\"T_260fb_row2_col0\" class=\"data row2 col0\" >object</td>\n",
       "      <td id=\"T_260fb_row2_col1\" class=\"data row2 col1\" >9</td>\n",
       "      <td id=\"T_260fb_row2_col2\" class=\"data row2 col2\" >0</td>\n",
       "      <td id=\"T_260fb_row2_col3\" class=\"data row2 col3\" >0.000000</td>\n",
       "    </tr>\n",
       "    <tr>\n",
       "      <th id=\"T_260fb_level0_row3\" class=\"row_heading level0 row3\" >source_screen_name</th>\n",
       "      <td id=\"T_260fb_row3_col0\" class=\"data row3 col0\" >object</td>\n",
       "      <td id=\"T_260fb_row3_col1\" class=\"data row3 col1\" >21</td>\n",
       "      <td id=\"T_260fb_row3_col2\" class=\"data row3 col2\" >0</td>\n",
       "      <td id=\"T_260fb_row3_col3\" class=\"data row3 col3\" >0.000000</td>\n",
       "    </tr>\n",
       "    <tr>\n",
       "      <th id=\"T_260fb_level0_row4\" class=\"row_heading level0 row4\" >source_type</th>\n",
       "      <td id=\"T_260fb_row4_col0\" class=\"data row4 col0\" >object</td>\n",
       "      <td id=\"T_260fb_row4_col1\" class=\"data row4 col1\" >13</td>\n",
       "      <td id=\"T_260fb_row4_col2\" class=\"data row4 col2\" >0</td>\n",
       "      <td id=\"T_260fb_row4_col3\" class=\"data row4 col3\" >0.000000</td>\n",
       "    </tr>\n",
       "    <tr>\n",
       "      <th id=\"T_260fb_level0_row5\" class=\"row_heading level0 row5\" >target</th>\n",
       "      <td id=\"T_260fb_row5_col0\" class=\"data row5 col0\" >int64</td>\n",
       "      <td id=\"T_260fb_row5_col1\" class=\"data row5 col1\" >2</td>\n",
       "      <td id=\"T_260fb_row5_col2\" class=\"data row5 col2\" >0</td>\n",
       "      <td id=\"T_260fb_row5_col3\" class=\"data row5 col3\" >0.000000</td>\n",
       "    </tr>\n",
       "    <tr>\n",
       "      <th id=\"T_260fb_level0_row6\" class=\"row_heading level0 row6\" >city</th>\n",
       "      <td id=\"T_260fb_row6_col0\" class=\"data row6 col0\" >int64</td>\n",
       "      <td id=\"T_260fb_row6_col1\" class=\"data row6 col1\" >21</td>\n",
       "      <td id=\"T_260fb_row6_col2\" class=\"data row6 col2\" >0</td>\n",
       "      <td id=\"T_260fb_row6_col3\" class=\"data row6 col3\" >0.000000</td>\n",
       "    </tr>\n",
       "    <tr>\n",
       "      <th id=\"T_260fb_level0_row7\" class=\"row_heading level0 row7\" >bd</th>\n",
       "      <td id=\"T_260fb_row7_col0\" class=\"data row7 col0\" >int64</td>\n",
       "      <td id=\"T_260fb_row7_col1\" class=\"data row7 col1\" >92</td>\n",
       "      <td id=\"T_260fb_row7_col2\" class=\"data row7 col2\" >0</td>\n",
       "      <td id=\"T_260fb_row7_col3\" class=\"data row7 col3\" >0.000000</td>\n",
       "    </tr>\n",
       "    <tr>\n",
       "      <th id=\"T_260fb_level0_row8\" class=\"row_heading level0 row8\" >gender</th>\n",
       "      <td id=\"T_260fb_row8_col0\" class=\"data row8 col0\" >object</td>\n",
       "      <td id=\"T_260fb_row8_col1\" class=\"data row8 col1\" >3</td>\n",
       "      <td id=\"T_260fb_row8_col2\" class=\"data row8 col2\" >0</td>\n",
       "      <td id=\"T_260fb_row8_col3\" class=\"data row8 col3\" >0.000000</td>\n",
       "    </tr>\n",
       "    <tr>\n",
       "      <th id=\"T_260fb_level0_row9\" class=\"row_heading level0 row9\" >registered_via</th>\n",
       "      <td id=\"T_260fb_row9_col0\" class=\"data row9 col0\" >int64</td>\n",
       "      <td id=\"T_260fb_row9_col1\" class=\"data row9 col1\" >5</td>\n",
       "      <td id=\"T_260fb_row9_col2\" class=\"data row9 col2\" >0</td>\n",
       "      <td id=\"T_260fb_row9_col3\" class=\"data row9 col3\" >0.000000</td>\n",
       "    </tr>\n",
       "    <tr>\n",
       "      <th id=\"T_260fb_level0_row10\" class=\"row_heading level0 row10\" >registration_init_time</th>\n",
       "      <td id=\"T_260fb_row10_col0\" class=\"data row10 col0\" >int64</td>\n",
       "      <td id=\"T_260fb_row10_col1\" class=\"data row10 col1\" >3811</td>\n",
       "      <td id=\"T_260fb_row10_col2\" class=\"data row10 col2\" >0</td>\n",
       "      <td id=\"T_260fb_row10_col3\" class=\"data row10 col3\" >0.000000</td>\n",
       "    </tr>\n",
       "    <tr>\n",
       "      <th id=\"T_260fb_level0_row11\" class=\"row_heading level0 row11\" >expiration_date</th>\n",
       "      <td id=\"T_260fb_row11_col0\" class=\"data row11 col0\" >int64</td>\n",
       "      <td id=\"T_260fb_row11_col1\" class=\"data row11 col1\" >1395</td>\n",
       "      <td id=\"T_260fb_row11_col2\" class=\"data row11 col2\" >0</td>\n",
       "      <td id=\"T_260fb_row11_col3\" class=\"data row11 col3\" >0.000000</td>\n",
       "    </tr>\n",
       "  </tbody>\n",
       "</table>\n"
      ],
      "text/plain": [
       "<pandas.io.formats.style.Styler at 0x7a50340063e0>"
      ]
     },
     "execution_count": 15,
     "metadata": {},
     "output_type": "execute_result"
    }
   ],
   "source": [
    "result = find_dirty_values(train_df)\n",
    "result "
   ]
  },
  {
   "cell_type": "markdown",
   "id": "572bf8f9",
   "metadata": {
    "papermill": {
     "duration": 0.021988,
     "end_time": "2024-02-17T10:45:39.688267",
     "exception": false,
     "start_time": "2024-02-17T10:45:39.666279",
     "status": "completed"
    },
    "tags": []
   },
   "source": [
    "## Parsing Dates"
   ]
  },
  {
   "cell_type": "code",
   "execution_count": 16,
   "id": "e94eb99e",
   "metadata": {
    "execution": {
     "iopub.execute_input": "2024-02-17T10:45:39.733968Z",
     "iopub.status.busy": "2024-02-17T10:45:39.733679Z",
     "iopub.status.idle": "2024-02-17T10:45:39.739607Z",
     "shell.execute_reply": "2024-02-17T10:45:39.738722Z"
    },
    "papermill": {
     "duration": 0.031273,
     "end_time": "2024-02-17T10:45:39.741730",
     "exception": false,
     "start_time": "2024-02-17T10:45:39.710457",
     "status": "completed"
    },
    "tags": []
   },
   "outputs": [],
   "source": [
    "date_cols = ['registration_init_time','expiration_date']\n",
    "def date_formatting(date):\n",
    "    date = str(date)\n",
    "    date = f\"{date[:4]}-{date[4:6]}-{date[6:]}\"\n",
    "    return date\n",
    "def paring_date(dataframe,date):\n",
    "    dataframe[date] = pd.to_datetime(dataframe[date])\n",
    "    dataframe[f\"{date}-day\"] = dataframe[date].dt.day\n",
    "    dataframe[f\"{date}-month\"] = dataframe[date].dt.month\n",
    "    dataframe[f\"{date}-year\"] = dataframe[date].dt.year\n",
    "    return dataframe\n"
   ]
  },
  {
   "cell_type": "code",
   "execution_count": 17,
   "id": "8a46a889",
   "metadata": {
    "execution": {
     "iopub.execute_input": "2024-02-17T10:45:39.787572Z",
     "iopub.status.busy": "2024-02-17T10:45:39.787303Z",
     "iopub.status.idle": "2024-02-17T10:46:02.633286Z",
     "shell.execute_reply": "2024-02-17T10:46:02.632452Z"
    },
    "papermill": {
     "duration": 22.871237,
     "end_time": "2024-02-17T10:46:02.635732",
     "exception": false,
     "start_time": "2024-02-17T10:45:39.764495",
     "status": "completed"
    },
    "tags": []
   },
   "outputs": [],
   "source": [
    "for col in date_cols:\n",
    "    train_df[col] = train_df[col].apply(date_formatting)\n",
    "    train_df = paring_date(train_df,col)\n"
   ]
  },
  {
   "cell_type": "code",
   "execution_count": 18,
   "id": "cfcc28f7",
   "metadata": {
    "execution": {
     "iopub.execute_input": "2024-02-17T10:46:02.682680Z",
     "iopub.status.busy": "2024-02-17T10:46:02.681928Z",
     "iopub.status.idle": "2024-02-17T10:46:02.925890Z",
     "shell.execute_reply": "2024-02-17T10:46:02.924981Z"
    },
    "papermill": {
     "duration": 0.26953,
     "end_time": "2024-02-17T10:46:02.928216",
     "exception": false,
     "start_time": "2024-02-17T10:46:02.658686",
     "status": "completed"
    },
    "tags": []
   },
   "outputs": [
    {
     "data": {
      "text/html": [
       "<div>\n",
       "<style scoped>\n",
       "    .dataframe tbody tr th:only-of-type {\n",
       "        vertical-align: middle;\n",
       "    }\n",
       "\n",
       "    .dataframe tbody tr th {\n",
       "        vertical-align: top;\n",
       "    }\n",
       "\n",
       "    .dataframe thead th {\n",
       "        text-align: right;\n",
       "    }\n",
       "</style>\n",
       "<table border=\"1\" class=\"dataframe\">\n",
       "  <thead>\n",
       "    <tr style=\"text-align: right;\">\n",
       "      <th></th>\n",
       "      <th>registration_init_time</th>\n",
       "      <th>expiration_date</th>\n",
       "      <th>registration_init_time-day</th>\n",
       "      <th>registration_init_time-month</th>\n",
       "      <th>registration_init_time-year</th>\n",
       "      <th>expiration_date-day</th>\n",
       "      <th>expiration_date-month</th>\n",
       "      <th>expiration_date-year</th>\n",
       "    </tr>\n",
       "  </thead>\n",
       "  <tbody>\n",
       "    <tr>\n",
       "      <th>0</th>\n",
       "      <td>2012-01-02</td>\n",
       "      <td>2017-10-05</td>\n",
       "      <td>2</td>\n",
       "      <td>1</td>\n",
       "      <td>2012</td>\n",
       "      <td>5</td>\n",
       "      <td>10</td>\n",
       "      <td>2017</td>\n",
       "    </tr>\n",
       "    <tr>\n",
       "      <th>1</th>\n",
       "      <td>2011-05-25</td>\n",
       "      <td>2017-09-11</td>\n",
       "      <td>25</td>\n",
       "      <td>5</td>\n",
       "      <td>2011</td>\n",
       "      <td>11</td>\n",
       "      <td>9</td>\n",
       "      <td>2017</td>\n",
       "    </tr>\n",
       "    <tr>\n",
       "      <th>2</th>\n",
       "      <td>2011-05-25</td>\n",
       "      <td>2017-09-11</td>\n",
       "      <td>25</td>\n",
       "      <td>5</td>\n",
       "      <td>2011</td>\n",
       "      <td>11</td>\n",
       "      <td>9</td>\n",
       "      <td>2017</td>\n",
       "    </tr>\n",
       "    <tr>\n",
       "      <th>3</th>\n",
       "      <td>2011-05-25</td>\n",
       "      <td>2017-09-11</td>\n",
       "      <td>25</td>\n",
       "      <td>5</td>\n",
       "      <td>2011</td>\n",
       "      <td>11</td>\n",
       "      <td>9</td>\n",
       "      <td>2017</td>\n",
       "    </tr>\n",
       "    <tr>\n",
       "      <th>4</th>\n",
       "      <td>2012-01-02</td>\n",
       "      <td>2017-10-05</td>\n",
       "      <td>2</td>\n",
       "      <td>1</td>\n",
       "      <td>2012</td>\n",
       "      <td>5</td>\n",
       "      <td>10</td>\n",
       "      <td>2017</td>\n",
       "    </tr>\n",
       "  </tbody>\n",
       "</table>\n",
       "</div>"
      ],
      "text/plain": [
       "  registration_init_time expiration_date  registration_init_time-day  \\\n",
       "0             2012-01-02      2017-10-05                           2   \n",
       "1             2011-05-25      2017-09-11                          25   \n",
       "2             2011-05-25      2017-09-11                          25   \n",
       "3             2011-05-25      2017-09-11                          25   \n",
       "4             2012-01-02      2017-10-05                           2   \n",
       "\n",
       "   registration_init_time-month  registration_init_time-year  \\\n",
       "0                             1                         2012   \n",
       "1                             5                         2011   \n",
       "2                             5                         2011   \n",
       "3                             5                         2011   \n",
       "4                             1                         2012   \n",
       "\n",
       "   expiration_date-day  expiration_date-month  expiration_date-year  \n",
       "0                    5                     10                  2017  \n",
       "1                   11                      9                  2017  \n",
       "2                   11                      9                  2017  \n",
       "3                   11                      9                  2017  \n",
       "4                    5                     10                  2017  "
      ]
     },
     "execution_count": 18,
     "metadata": {},
     "output_type": "execute_result"
    }
   ],
   "source": [
    "train_df.loc[:,'registration_init_time':].head()"
   ]
  },
  {
   "cell_type": "code",
   "execution_count": 19,
   "id": "8712000d",
   "metadata": {
    "execution": {
     "iopub.execute_input": "2024-02-17T10:46:02.975119Z",
     "iopub.status.busy": "2024-02-17T10:46:02.974842Z",
     "iopub.status.idle": "2024-02-17T10:46:02.980920Z",
     "shell.execute_reply": "2024-02-17T10:46:02.980045Z"
    },
    "papermill": {
     "duration": 0.031359,
     "end_time": "2024-02-17T10:46:02.982818",
     "exception": false,
     "start_time": "2024-02-17T10:46:02.951459",
     "status": "completed"
    },
    "tags": []
   },
   "outputs": [
    {
     "data": {
      "text/plain": [
       "(7377418, 18)"
      ]
     },
     "execution_count": 19,
     "metadata": {},
     "output_type": "execute_result"
    }
   ],
   "source": [
    "train_df.shape"
   ]
  },
  {
   "cell_type": "markdown",
   "id": "5062eff9",
   "metadata": {
    "papermill": {
     "duration": 0.022429,
     "end_time": "2024-02-17T10:46:03.027991",
     "exception": false,
     "start_time": "2024-02-17T10:46:03.005562",
     "status": "completed"
    },
    "tags": []
   },
   "source": [
    "## Encoding Categorical Columns"
   ]
  },
  {
   "cell_type": "code",
   "execution_count": 20,
   "id": "7d64b59c",
   "metadata": {
    "execution": {
     "iopub.execute_input": "2024-02-17T10:46:03.077099Z",
     "iopub.status.busy": "2024-02-17T10:46:03.076420Z",
     "iopub.status.idle": "2024-02-17T10:46:20.598337Z",
     "shell.execute_reply": "2024-02-17T10:46:20.597024Z"
    },
    "papermill": {
     "duration": 17.550291,
     "end_time": "2024-02-17T10:46:20.600885",
     "exception": false,
     "start_time": "2024-02-17T10:46:03.050594",
     "status": "completed"
    },
    "tags": []
   },
   "outputs": [],
   "source": [
    "cat_cols = train_df.select_dtypes(include=\"O\").columns\n",
    "encoder = LabelEncoder()\n",
    "for col in cat_cols:\n",
    "    train_df[col] = encoder.fit_transform(train_df[col])\n"
   ]
  },
  {
   "cell_type": "code",
   "execution_count": 21,
   "id": "8aeea564",
   "metadata": {
    "execution": {
     "iopub.execute_input": "2024-02-17T10:46:20.649602Z",
     "iopub.status.busy": "2024-02-17T10:46:20.649263Z",
     "iopub.status.idle": "2024-02-17T10:46:21.073853Z",
     "shell.execute_reply": "2024-02-17T10:46:21.072896Z"
    },
    "papermill": {
     "duration": 0.450136,
     "end_time": "2024-02-17T10:46:21.075872",
     "exception": false,
     "start_time": "2024-02-17T10:46:20.625736",
     "status": "completed"
    },
    "tags": []
   },
   "outputs": [
    {
     "data": {
      "text/html": [
       "<div>\n",
       "<style scoped>\n",
       "    .dataframe tbody tr th:only-of-type {\n",
       "        vertical-align: middle;\n",
       "    }\n",
       "\n",
       "    .dataframe tbody tr th {\n",
       "        vertical-align: top;\n",
       "    }\n",
       "\n",
       "    .dataframe thead th {\n",
       "        text-align: right;\n",
       "    }\n",
       "</style>\n",
       "<table border=\"1\" class=\"dataframe\">\n",
       "  <thead>\n",
       "    <tr style=\"text-align: right;\">\n",
       "      <th></th>\n",
       "      <th>source_system_tab</th>\n",
       "      <th>source_screen_name</th>\n",
       "      <th>source_type</th>\n",
       "      <th>target</th>\n",
       "      <th>city</th>\n",
       "      <th>bd</th>\n",
       "      <th>gender</th>\n",
       "      <th>registered_via</th>\n",
       "      <th>registration_init_time-day</th>\n",
       "      <th>registration_init_time-month</th>\n",
       "      <th>registration_init_time-year</th>\n",
       "      <th>expiration_date-day</th>\n",
       "      <th>expiration_date-month</th>\n",
       "      <th>expiration_date-year</th>\n",
       "    </tr>\n",
       "  </thead>\n",
       "  <tbody>\n",
       "    <tr>\n",
       "      <th>0</th>\n",
       "      <td>2</td>\n",
       "      <td>7</td>\n",
       "      <td>7</td>\n",
       "      <td>1</td>\n",
       "      <td>1</td>\n",
       "      <td>0</td>\n",
       "      <td>0</td>\n",
       "      <td>7</td>\n",
       "      <td>2</td>\n",
       "      <td>1</td>\n",
       "      <td>2012</td>\n",
       "      <td>5</td>\n",
       "      <td>10</td>\n",
       "      <td>2017</td>\n",
       "    </tr>\n",
       "    <tr>\n",
       "      <th>1</th>\n",
       "      <td>4</td>\n",
       "      <td>8</td>\n",
       "      <td>5</td>\n",
       "      <td>1</td>\n",
       "      <td>13</td>\n",
       "      <td>24</td>\n",
       "      <td>1</td>\n",
       "      <td>9</td>\n",
       "      <td>25</td>\n",
       "      <td>5</td>\n",
       "      <td>2011</td>\n",
       "      <td>11</td>\n",
       "      <td>9</td>\n",
       "      <td>2017</td>\n",
       "    </tr>\n",
       "    <tr>\n",
       "      <th>2</th>\n",
       "      <td>4</td>\n",
       "      <td>8</td>\n",
       "      <td>5</td>\n",
       "      <td>1</td>\n",
       "      <td>13</td>\n",
       "      <td>24</td>\n",
       "      <td>1</td>\n",
       "      <td>9</td>\n",
       "      <td>25</td>\n",
       "      <td>5</td>\n",
       "      <td>2011</td>\n",
       "      <td>11</td>\n",
       "      <td>9</td>\n",
       "      <td>2017</td>\n",
       "    </tr>\n",
       "    <tr>\n",
       "      <th>3</th>\n",
       "      <td>4</td>\n",
       "      <td>8</td>\n",
       "      <td>5</td>\n",
       "      <td>1</td>\n",
       "      <td>13</td>\n",
       "      <td>24</td>\n",
       "      <td>1</td>\n",
       "      <td>9</td>\n",
       "      <td>25</td>\n",
       "      <td>5</td>\n",
       "      <td>2011</td>\n",
       "      <td>11</td>\n",
       "      <td>9</td>\n",
       "      <td>2017</td>\n",
       "    </tr>\n",
       "    <tr>\n",
       "      <th>4</th>\n",
       "      <td>2</td>\n",
       "      <td>7</td>\n",
       "      <td>7</td>\n",
       "      <td>1</td>\n",
       "      <td>1</td>\n",
       "      <td>0</td>\n",
       "      <td>0</td>\n",
       "      <td>7</td>\n",
       "      <td>2</td>\n",
       "      <td>1</td>\n",
       "      <td>2012</td>\n",
       "      <td>5</td>\n",
       "      <td>10</td>\n",
       "      <td>2017</td>\n",
       "    </tr>\n",
       "  </tbody>\n",
       "</table>\n",
       "</div>"
      ],
      "text/plain": [
       "   source_system_tab  source_screen_name  source_type  target  city  bd  \\\n",
       "0                  2                   7            7       1     1   0   \n",
       "1                  4                   8            5       1    13  24   \n",
       "2                  4                   8            5       1    13  24   \n",
       "3                  4                   8            5       1    13  24   \n",
       "4                  2                   7            7       1     1   0   \n",
       "\n",
       "   gender  registered_via  registration_init_time-day  \\\n",
       "0       0               7                           2   \n",
       "1       1               9                          25   \n",
       "2       1               9                          25   \n",
       "3       1               9                          25   \n",
       "4       0               7                           2   \n",
       "\n",
       "   registration_init_time-month  registration_init_time-year  \\\n",
       "0                             1                         2012   \n",
       "1                             5                         2011   \n",
       "2                             5                         2011   \n",
       "3                             5                         2011   \n",
       "4                             1                         2012   \n",
       "\n",
       "   expiration_date-day  expiration_date-month  expiration_date-year  \n",
       "0                    5                     10                  2017  \n",
       "1                   11                      9                  2017  \n",
       "2                   11                      9                  2017  \n",
       "3                   11                      9                  2017  \n",
       "4                    5                     10                  2017  "
      ]
     },
     "execution_count": 21,
     "metadata": {},
     "output_type": "execute_result"
    }
   ],
   "source": [
    "x = train_df.drop(columns={\"registration_init_time\",\"expiration_date\",\"song_id\",\"msno\"})\n",
    "x.head()"
   ]
  },
  {
   "cell_type": "code",
   "execution_count": 22,
   "id": "ced8eee3",
   "metadata": {
    "execution": {
     "iopub.execute_input": "2024-02-17T10:46:21.125229Z",
     "iopub.status.busy": "2024-02-17T10:46:21.124728Z",
     "iopub.status.idle": "2024-02-17T10:46:21.130316Z",
     "shell.execute_reply": "2024-02-17T10:46:21.129405Z"
    },
    "papermill": {
     "duration": 0.031347,
     "end_time": "2024-02-17T10:46:21.132285",
     "exception": false,
     "start_time": "2024-02-17T10:46:21.100938",
     "status": "completed"
    },
    "tags": []
   },
   "outputs": [
    {
     "data": {
      "text/plain": [
       "(7377418, 14)"
      ]
     },
     "execution_count": 22,
     "metadata": {},
     "output_type": "execute_result"
    }
   ],
   "source": [
    "x.shape"
   ]
  },
  {
   "cell_type": "markdown",
   "id": "4234eac1",
   "metadata": {
    "papermill": {
     "duration": 0.022845,
     "end_time": "2024-02-17T10:46:21.178457",
     "exception": false,
     "start_time": "2024-02-17T10:46:21.155612",
     "status": "completed"
    },
    "tags": []
   },
   "source": [
    "## Training The Model"
   ]
  },
  {
   "cell_type": "code",
   "execution_count": 23,
   "id": "dea2dc46",
   "metadata": {
    "execution": {
     "iopub.execute_input": "2024-02-17T10:46:21.225432Z",
     "iopub.status.busy": "2024-02-17T10:46:21.225141Z",
     "iopub.status.idle": "2024-02-17T10:46:21.229506Z",
     "shell.execute_reply": "2024-02-17T10:46:21.228697Z"
    },
    "papermill": {
     "duration": 0.030136,
     "end_time": "2024-02-17T10:46:21.231586",
     "exception": false,
     "start_time": "2024-02-17T10:46:21.201450",
     "status": "completed"
    },
    "tags": []
   },
   "outputs": [],
   "source": [
    "y = x.pop('target')"
   ]
  },
  {
   "cell_type": "code",
   "execution_count": 24,
   "id": "acafbff4",
   "metadata": {
    "execution": {
     "iopub.execute_input": "2024-02-17T10:46:21.278769Z",
     "iopub.status.busy": "2024-02-17T10:46:21.278473Z",
     "iopub.status.idle": "2024-02-17T10:46:23.701845Z",
     "shell.execute_reply": "2024-02-17T10:46:23.701046Z"
    },
    "papermill": {
     "duration": 2.449596,
     "end_time": "2024-02-17T10:46:23.704135",
     "exception": false,
     "start_time": "2024-02-17T10:46:21.254539",
     "status": "completed"
    },
    "tags": []
   },
   "outputs": [],
   "source": [
    "x_train,x_test,y_train,y_test = train_test_split(x,y,test_size=.3,random_state=42)"
   ]
  },
  {
   "cell_type": "code",
   "execution_count": 25,
   "id": "20fe7924",
   "metadata": {
    "execution": {
     "iopub.execute_input": "2024-02-17T10:46:23.752562Z",
     "iopub.status.busy": "2024-02-17T10:46:23.752052Z",
     "iopub.status.idle": "2024-02-17T10:46:23.757326Z",
     "shell.execute_reply": "2024-02-17T10:46:23.756411Z"
    },
    "papermill": {
     "duration": 0.031437,
     "end_time": "2024-02-17T10:46:23.759342",
     "exception": false,
     "start_time": "2024-02-17T10:46:23.727905",
     "status": "completed"
    },
    "tags": []
   },
   "outputs": [
    {
     "name": "stdout",
     "output_type": "stream",
     "text": [
      "Shape Of Training Data Set :  (5164192, 13)\n",
      "Shape Of Testing Data Set : (2213226, 13)\n",
      "Shape Of Train Label : (5164192,)\n",
      "Shape Of Test Label : (2213226,)\n"
     ]
    }
   ],
   "source": [
    "print(f\"Shape Of Training Data Set : \",x_train.shape)\n",
    "print(f\"Shape Of Testing Data Set :\",x_test.shape)\n",
    "print(f\"Shape Of Train Label :\",y_train.shape)\n",
    "print(f\"Shape Of Test Label :\",y_test.shape)"
   ]
  },
  {
   "cell_type": "markdown",
   "id": "6e7eaacb",
   "metadata": {
    "papermill": {
     "duration": 0.023054,
     "end_time": "2024-02-17T10:46:23.805724",
     "exception": false,
     "start_time": "2024-02-17T10:46:23.782670",
     "status": "completed"
    },
    "tags": []
   },
   "source": [
    "## Logistic Regression"
   ]
  },
  {
   "cell_type": "code",
   "execution_count": 26,
   "id": "450ed375",
   "metadata": {
    "execution": {
     "iopub.execute_input": "2024-02-17T10:46:23.852721Z",
     "iopub.status.busy": "2024-02-17T10:46:23.852433Z",
     "iopub.status.idle": "2024-02-17T10:47:22.080077Z",
     "shell.execute_reply": "2024-02-17T10:47:22.078855Z"
    },
    "papermill": {
     "duration": 58.253493,
     "end_time": "2024-02-17T10:47:22.082240",
     "exception": false,
     "start_time": "2024-02-17T10:46:23.828747",
     "status": "completed"
    },
    "tags": []
   },
   "outputs": [
    {
     "name": "stdout",
     "output_type": "stream",
     "text": [
      "Training Accuracy :  0.59988648756669\n",
      "Test Accuracy :  0.6000855764390984\n",
      "Classification Report:\n",
      "               precision    recall  f1-score   support\n",
      "\n",
      "           0       0.61      0.55      0.58   2564524\n",
      "           1       0.59      0.65      0.62   2599668\n",
      "\n",
      "    accuracy                           0.60   5164192\n",
      "   macro avg       0.60      0.60      0.60   5164192\n",
      "weighted avg       0.60      0.60      0.60   5164192\n",
      "\n"
     ]
    }
   ],
   "source": [
    "lr = LogisticRegression(max_iter=300,C=0.001,penalty=\"l2\")\n",
    "lr.fit(x_train,y_train)\n",
    "train_pred = lr.predict(x_train)\n",
    "test_pred = lr.predict(x_test)\n",
    "lr_train_acc = accuracy_score(y_train,train_pred)\n",
    "lr_test_acc = accuracy_score(y_test,test_pred)\n",
    "print(\"Training Accuracy : \",lr_train_acc)\n",
    "print(\"Test Accuracy : \",lr_test_acc)\n",
    "print(\"Classification Report:\\n\",classification_report(y_train,train_pred))"
   ]
  },
  {
   "cell_type": "markdown",
   "id": "1b982a47",
   "metadata": {
    "papermill": {
     "duration": 0.023084,
     "end_time": "2024-02-17T10:47:22.130060",
     "exception": false,
     "start_time": "2024-02-17T10:47:22.106976",
     "status": "completed"
    },
    "tags": []
   },
   "source": [
    "## Naive Bayes"
   ]
  },
  {
   "cell_type": "code",
   "execution_count": 27,
   "id": "475e735f",
   "metadata": {
    "execution": {
     "iopub.execute_input": "2024-02-17T10:47:22.177800Z",
     "iopub.status.busy": "2024-02-17T10:47:22.177448Z",
     "iopub.status.idle": "2024-02-17T10:47:36.945007Z",
     "shell.execute_reply": "2024-02-17T10:47:36.944004Z"
    },
    "papermill": {
     "duration": 14.794035,
     "end_time": "2024-02-17T10:47:36.947172",
     "exception": false,
     "start_time": "2024-02-17T10:47:22.153137",
     "status": "completed"
    },
    "tags": []
   },
   "outputs": [
    {
     "name": "stdout",
     "output_type": "stream",
     "text": [
      "Training Accuracy :  0.5583400074977848\n",
      "Test Accuracy :  0.5584576541211788\n",
      "Classification Report:\n",
      "               precision    recall  f1-score   support\n",
      "\n",
      "           0       0.62      0.29      0.39   2564524\n",
      "           1       0.54      0.82      0.65   2599668\n",
      "\n",
      "    accuracy                           0.56   5164192\n",
      "   macro avg       0.58      0.56      0.52   5164192\n",
      "weighted avg       0.58      0.56      0.52   5164192\n",
      "\n"
     ]
    }
   ],
   "source": [
    "NB = GaussianNB(var_smoothing=0.01)\n",
    "NB.fit(x_train,y_train)\n",
    "train_pred = NB.predict(x_train)\n",
    "test_pred = NB.predict(x_test)\n",
    "NB_train_acc = accuracy_score(y_train,train_pred)\n",
    "NB_test_acc = accuracy_score(y_test,test_pred)\n",
    "print(\"Training Accuracy : \",NB_train_acc)\n",
    "print(\"Test Accuracy : \",NB_test_acc)\n",
    "print(\"Classification Report:\\n\",classification_report(y_train,train_pred))"
   ]
  },
  {
   "cell_type": "markdown",
   "id": "ce318953",
   "metadata": {
    "papermill": {
     "duration": 0.023661,
     "end_time": "2024-02-17T10:47:36.995272",
     "exception": false,
     "start_time": "2024-02-17T10:47:36.971611",
     "status": "completed"
    },
    "tags": []
   },
   "source": [
    "## Decision Trees"
   ]
  },
  {
   "cell_type": "code",
   "execution_count": 28,
   "id": "c6ca0257",
   "metadata": {
    "execution": {
     "iopub.execute_input": "2024-02-17T10:47:37.043298Z",
     "iopub.status.busy": "2024-02-17T10:47:37.042985Z",
     "iopub.status.idle": "2024-02-17T10:48:57.003026Z",
     "shell.execute_reply": "2024-02-17T10:48:57.002048Z"
    },
    "papermill": {
     "duration": 79.986391,
     "end_time": "2024-02-17T10:48:57.005209",
     "exception": false,
     "start_time": "2024-02-17T10:47:37.018818",
     "status": "completed"
    },
    "tags": []
   },
   "outputs": [
    {
     "name": "stdout",
     "output_type": "stream",
     "text": [
      "Training Accuracy :  0.7318794498732812\n",
      "Test Accuracy :  0.7133609491303644\n",
      "Classification Report:\n",
      "               precision    recall  f1-score   support\n",
      "\n",
      "           0       0.72      0.74      0.73   2564524\n",
      "           1       0.74      0.72      0.73   2599668\n",
      "\n",
      "    accuracy                           0.73   5164192\n",
      "   macro avg       0.73      0.73      0.73   5164192\n",
      "weighted avg       0.73      0.73      0.73   5164192\n",
      "\n"
     ]
    }
   ],
   "source": [
    "Dtree = DecisionTreeClassifier(max_depth=None,min_samples_leaf=1,min_samples_split=5)\n",
    "Dtree.fit(x_train,y_train)\n",
    "train_pred = Dtree.predict(x_train)\n",
    "test_pred = Dtree.predict(x_test)\n",
    "Dtree_train_acc = accuracy_score(y_train,train_pred)\n",
    "Dtree_test_acc = accuracy_score(y_test,test_pred)\n",
    "print(\"Training Accuracy : \",Dtree_train_acc)\n",
    "print(\"Test Accuracy : \",Dtree_test_acc)\n",
    "print(\"Classification Report:\\n\",classification_report(y_train,train_pred))"
   ]
  },
  {
   "cell_type": "markdown",
   "id": "5fe95b6b",
   "metadata": {
    "papermill": {
     "duration": 0.023493,
     "end_time": "2024-02-17T10:48:57.053092",
     "exception": false,
     "start_time": "2024-02-17T10:48:57.029599",
     "status": "completed"
    },
    "tags": []
   },
   "source": [
    "## Gradient Boosting "
   ]
  },
  {
   "cell_type": "code",
   "execution_count": 29,
   "id": "3a809f90",
   "metadata": {
    "execution": {
     "iopub.execute_input": "2024-02-17T10:48:57.101790Z",
     "iopub.status.busy": "2024-02-17T10:48:57.101464Z",
     "iopub.status.idle": "2024-02-17T10:58:17.545643Z",
     "shell.execute_reply": "2024-02-17T10:58:17.544332Z"
    },
    "papermill": {
     "duration": 560.471487,
     "end_time": "2024-02-17T10:58:17.548162",
     "exception": false,
     "start_time": "2024-02-17T10:48:57.076675",
     "status": "completed"
    },
    "tags": []
   },
   "outputs": [
    {
     "name": "stdout",
     "output_type": "stream",
     "text": [
      "Training Accuracy :  0.6265076898767513\n",
      "Test Accuracy :  0.626886725530967\n",
      "Classification Report:\n",
      "               precision    recall  f1-score   support\n",
      "\n",
      "           0       0.62      0.66      0.64   2564524\n",
      "           1       0.64      0.60      0.62   2599668\n",
      "\n",
      "    accuracy                           0.63   5164192\n",
      "   macro avg       0.63      0.63      0.63   5164192\n",
      "weighted avg       0.63      0.63      0.63   5164192\n",
      "\n"
     ]
    }
   ],
   "source": [
    "gb = GradientBoostingClassifier(learning_rate=.1,max_depth=4,n_estimators=50)\n",
    "gb.fit(x_train,y_train)\n",
    "train_pred = gb.predict(x_train)\n",
    "test_pred = gb.predict(x_test)\n",
    "gb_train_acc = accuracy_score(y_train,train_pred)\n",
    "gb_test_acc = accuracy_score(y_test,test_pred)\n",
    "print(\"Training Accuracy : \",gb_train_acc)\n",
    "print(\"Test Accuracy : \",gb_test_acc)\n",
    "print(\"Classification Report:\\n\",classification_report(y_train,train_pred))"
   ]
  },
  {
   "cell_type": "markdown",
   "id": "e6a5e073",
   "metadata": {
    "papermill": {
     "duration": 0.023634,
     "end_time": "2024-02-17T10:58:17.597875",
     "exception": false,
     "start_time": "2024-02-17T10:58:17.574241",
     "status": "completed"
    },
    "tags": []
   },
   "source": [
    "## XGBoost"
   ]
  },
  {
   "cell_type": "code",
   "execution_count": 30,
   "id": "21f65f00",
   "metadata": {
    "execution": {
     "iopub.execute_input": "2024-02-17T10:58:17.647421Z",
     "iopub.status.busy": "2024-02-17T10:58:17.646843Z",
     "iopub.status.idle": "2024-02-17T10:59:48.902199Z",
     "shell.execute_reply": "2024-02-17T10:59:48.901194Z"
    },
    "papermill": {
     "duration": 91.282661,
     "end_time": "2024-02-17T10:59:48.904556",
     "exception": false,
     "start_time": "2024-02-17T10:58:17.621895",
     "status": "completed"
    },
    "tags": []
   },
   "outputs": [
    {
     "name": "stdout",
     "output_type": "stream",
     "text": [
      "Training Accuracy :  0.6236526449829906\n",
      "Test Accuracy :  0.6240736373059055\n",
      "Classification Report:\n",
      "               precision    recall  f1-score   support\n",
      "\n",
      "           0       0.61      0.67      0.64   2564524\n",
      "           1       0.64      0.58      0.61   2599668\n",
      "\n",
      "    accuracy                           0.62   5164192\n",
      "   macro avg       0.63      0.62      0.62   5164192\n",
      "weighted avg       0.63      0.62      0.62   5164192\n",
      "\n"
     ]
    }
   ],
   "source": [
    "xg = xgb.XGBClassifier(random_state=0,learning_rate=.01,max_depth=3,n_estimators=50)\n",
    "xg.fit(x_train,y_train)\n",
    "train_pred = xg.predict(x_train)\n",
    "test_pred = xg.predict(x_test)\n",
    "xg_train_acc = accuracy_score(y_train,train_pred)\n",
    "xg_test_acc = accuracy_score(y_test,test_pred)\n",
    "print(\"Training Accuracy : \",xg_train_acc)\n",
    "print(\"Test Accuracy : \",xg_test_acc)\n",
    "print(\"Classification Report:\\n\",classification_report(y_train,train_pred))"
   ]
  },
  {
   "cell_type": "markdown",
   "id": "8f2fd7ea",
   "metadata": {
    "papermill": {
     "duration": 0.023641,
     "end_time": "2024-02-17T10:59:48.954028",
     "exception": false,
     "start_time": "2024-02-17T10:59:48.930387",
     "status": "completed"
    },
    "tags": []
   },
   "source": [
    "## Comparing Models"
   ]
  },
  {
   "cell_type": "code",
   "execution_count": 31,
   "id": "a2daf988",
   "metadata": {
    "execution": {
     "iopub.execute_input": "2024-02-17T10:59:49.003167Z",
     "iopub.status.busy": "2024-02-17T10:59:49.002357Z",
     "iopub.status.idle": "2024-02-17T10:59:49.017493Z",
     "shell.execute_reply": "2024-02-17T10:59:49.016656Z"
    },
    "papermill": {
     "duration": 0.041654,
     "end_time": "2024-02-17T10:59:49.019389",
     "exception": false,
     "start_time": "2024-02-17T10:59:48.977735",
     "status": "completed"
    },
    "tags": []
   },
   "outputs": [
    {
     "data": {
      "text/html": [
       "<style type=\"text/css\">\n",
       "#T_4d2da_row0_col1, #T_4d2da_row0_col2 {\n",
       "  background-color: #999999;\n",
       "  color: #f1f1f1;\n",
       "}\n",
       "#T_4d2da_row1_col1, #T_4d2da_row1_col2, #T_4d2da_row2_col1, #T_4d2da_row2_col2 {\n",
       "  background-color: #984ea3;\n",
       "  color: #f1f1f1;\n",
       "}\n",
       "#T_4d2da_row3_col1, #T_4d2da_row3_col2 {\n",
       "  background-color: #4daf4a;\n",
       "  color: #f1f1f1;\n",
       "}\n",
       "#T_4d2da_row4_col1, #T_4d2da_row4_col2 {\n",
       "  background-color: #e41a1c;\n",
       "  color: #f1f1f1;\n",
       "}\n",
       "</style>\n",
       "<table id=\"T_4d2da\">\n",
       "  <thead>\n",
       "    <tr>\n",
       "      <th class=\"blank level0\" >&nbsp;</th>\n",
       "      <th id=\"T_4d2da_level0_col0\" class=\"col_heading level0 col0\" >Model</th>\n",
       "      <th id=\"T_4d2da_level0_col1\" class=\"col_heading level0 col1\" >Training Accuracy %</th>\n",
       "      <th id=\"T_4d2da_level0_col2\" class=\"col_heading level0 col2\" >Test Evaluation %</th>\n",
       "    </tr>\n",
       "  </thead>\n",
       "  <tbody>\n",
       "    <tr>\n",
       "      <th id=\"T_4d2da_level0_row0\" class=\"row_heading level0 row0\" >2</th>\n",
       "      <td id=\"T_4d2da_row0_col0\" class=\"data row0 col0\" >Decision Trees</td>\n",
       "      <td id=\"T_4d2da_row0_col1\" class=\"data row0 col1\" >0.731879</td>\n",
       "      <td id=\"T_4d2da_row0_col2\" class=\"data row0 col2\" >0.713361</td>\n",
       "    </tr>\n",
       "    <tr>\n",
       "      <th id=\"T_4d2da_level0_row1\" class=\"row_heading level0 row1\" >3</th>\n",
       "      <td id=\"T_4d2da_row1_col0\" class=\"data row1 col0\" >Gradient Boosting</td>\n",
       "      <td id=\"T_4d2da_row1_col1\" class=\"data row1 col1\" >0.626508</td>\n",
       "      <td id=\"T_4d2da_row1_col2\" class=\"data row1 col2\" >0.626887</td>\n",
       "    </tr>\n",
       "    <tr>\n",
       "      <th id=\"T_4d2da_level0_row2\" class=\"row_heading level0 row2\" >4</th>\n",
       "      <td id=\"T_4d2da_row2_col0\" class=\"data row2 col0\" >XGBoost</td>\n",
       "      <td id=\"T_4d2da_row2_col1\" class=\"data row2 col1\" >0.623653</td>\n",
       "      <td id=\"T_4d2da_row2_col2\" class=\"data row2 col2\" >0.624074</td>\n",
       "    </tr>\n",
       "    <tr>\n",
       "      <th id=\"T_4d2da_level0_row3\" class=\"row_heading level0 row3\" >0</th>\n",
       "      <td id=\"T_4d2da_row3_col0\" class=\"data row3 col0\" >Logistic Regression</td>\n",
       "      <td id=\"T_4d2da_row3_col1\" class=\"data row3 col1\" >0.599886</td>\n",
       "      <td id=\"T_4d2da_row3_col2\" class=\"data row3 col2\" >0.600086</td>\n",
       "    </tr>\n",
       "    <tr>\n",
       "      <th id=\"T_4d2da_level0_row4\" class=\"row_heading level0 row4\" >1</th>\n",
       "      <td id=\"T_4d2da_row4_col0\" class=\"data row4 col0\" >Naive Bayes</td>\n",
       "      <td id=\"T_4d2da_row4_col1\" class=\"data row4 col1\" >0.558340</td>\n",
       "      <td id=\"T_4d2da_row4_col2\" class=\"data row4 col2\" >0.558458</td>\n",
       "    </tr>\n",
       "  </tbody>\n",
       "</table>\n"
      ],
      "text/plain": [
       "<pandas.io.formats.style.Styler at 0x7a500272b9d0>"
      ]
     },
     "execution_count": 31,
     "metadata": {},
     "output_type": "execute_result"
    }
   ],
   "source": [
    "cols = [\n",
    "    [\"Logistic Regression\",lr_train_acc,lr_test_acc],\n",
    "    [\"Naive Bayes\",NB_train_acc,NB_test_acc],\n",
    "    [\"Decision Trees\",Dtree_train_acc,Dtree_test_acc],\n",
    "    [\"Gradient Boosting\",gb_train_acc,gb_test_acc],\n",
    "    [\"XGBoost\",xg_train_acc,xg_test_acc]\n",
    "    ]\n",
    "results = pd.DataFrame( cols,\n",
    "                       columns = [\"Model\",\"Training Accuracy %\",\"Test Evaluation %\"]).sort_values(\n",
    "                        by=\"Test Evaluation %\",ascending=False)\n",
    "results.style.background_gradient(cmap='Set1')"
   ]
  },
  {
   "cell_type": "code",
   "execution_count": 32,
   "id": "2206a075",
   "metadata": {
    "execution": {
     "iopub.execute_input": "2024-02-17T10:59:49.068823Z",
     "iopub.status.busy": "2024-02-17T10:59:49.068542Z",
     "iopub.status.idle": "2024-02-17T10:59:49.278006Z",
     "shell.execute_reply": "2024-02-17T10:59:49.276966Z"
    },
    "papermill": {
     "duration": 0.236589,
     "end_time": "2024-02-17T10:59:49.280008",
     "exception": false,
     "start_time": "2024-02-17T10:59:49.043419",
     "status": "completed"
    },
    "tags": []
   },
   "outputs": [
    {
     "data": {
      "text/html": [
       "<div>\n",
       "<style scoped>\n",
       "    .dataframe tbody tr th:only-of-type {\n",
       "        vertical-align: middle;\n",
       "    }\n",
       "\n",
       "    .dataframe tbody tr th {\n",
       "        vertical-align: top;\n",
       "    }\n",
       "\n",
       "    .dataframe thead th {\n",
       "        text-align: right;\n",
       "    }\n",
       "</style>\n",
       "<table border=\"1\" class=\"dataframe\">\n",
       "  <thead>\n",
       "    <tr style=\"text-align: right;\">\n",
       "      <th></th>\n",
       "      <th>index</th>\n",
       "      <th>source_system_tab</th>\n",
       "      <th>source_screen_name</th>\n",
       "      <th>source_type</th>\n",
       "      <th>city</th>\n",
       "      <th>bd</th>\n",
       "      <th>gender</th>\n",
       "      <th>registered_via</th>\n",
       "      <th>registration_init_time-day</th>\n",
       "      <th>registration_init_time-month</th>\n",
       "      <th>registration_init_time-year</th>\n",
       "      <th>expiration_date-day</th>\n",
       "      <th>expiration_date-month</th>\n",
       "      <th>expiration_date-year</th>\n",
       "    </tr>\n",
       "  </thead>\n",
       "  <tbody>\n",
       "    <tr>\n",
       "      <th>0</th>\n",
       "      <td>1919950</td>\n",
       "      <td>7</td>\n",
       "      <td>15</td>\n",
       "      <td>9</td>\n",
       "      <td>1</td>\n",
       "      <td>0</td>\n",
       "      <td>0</td>\n",
       "      <td>7</td>\n",
       "      <td>24</td>\n",
       "      <td>1</td>\n",
       "      <td>2014</td>\n",
       "      <td>6</td>\n",
       "      <td>10</td>\n",
       "      <td>2017</td>\n",
       "    </tr>\n",
       "    <tr>\n",
       "      <th>1</th>\n",
       "      <td>358522</td>\n",
       "      <td>1</td>\n",
       "      <td>19</td>\n",
       "      <td>11</td>\n",
       "      <td>22</td>\n",
       "      <td>21</td>\n",
       "      <td>1</td>\n",
       "      <td>3</td>\n",
       "      <td>2</td>\n",
       "      <td>11</td>\n",
       "      <td>2014</td>\n",
       "      <td>17</td>\n",
       "      <td>6</td>\n",
       "      <td>2017</td>\n",
       "    </tr>\n",
       "    <tr>\n",
       "      <th>2</th>\n",
       "      <td>5324459</td>\n",
       "      <td>6</td>\n",
       "      <td>14</td>\n",
       "      <td>8</td>\n",
       "      <td>14</td>\n",
       "      <td>30</td>\n",
       "      <td>1</td>\n",
       "      <td>9</td>\n",
       "      <td>10</td>\n",
       "      <td>3</td>\n",
       "      <td>2006</td>\n",
       "      <td>24</td>\n",
       "      <td>9</td>\n",
       "      <td>2017</td>\n",
       "    </tr>\n",
       "    <tr>\n",
       "      <th>3</th>\n",
       "      <td>3353377</td>\n",
       "      <td>4</td>\n",
       "      <td>8</td>\n",
       "      <td>5</td>\n",
       "      <td>11</td>\n",
       "      <td>26</td>\n",
       "      <td>1</td>\n",
       "      <td>9</td>\n",
       "      <td>28</td>\n",
       "      <td>9</td>\n",
       "      <td>2007</td>\n",
       "      <td>30</td>\n",
       "      <td>9</td>\n",
       "      <td>2017</td>\n",
       "    </tr>\n",
       "    <tr>\n",
       "      <th>4</th>\n",
       "      <td>3930239</td>\n",
       "      <td>1</td>\n",
       "      <td>1</td>\n",
       "      <td>11</td>\n",
       "      <td>14</td>\n",
       "      <td>0</td>\n",
       "      <td>0</td>\n",
       "      <td>9</td>\n",
       "      <td>8</td>\n",
       "      <td>3</td>\n",
       "      <td>2015</td>\n",
       "      <td>8</td>\n",
       "      <td>9</td>\n",
       "      <td>2017</td>\n",
       "    </tr>\n",
       "  </tbody>\n",
       "</table>\n",
       "</div>"
      ],
      "text/plain": [
       "     index  source_system_tab  source_screen_name  source_type  city  bd  \\\n",
       "0  1919950                  7                  15            9     1   0   \n",
       "1   358522                  1                  19           11    22  21   \n",
       "2  5324459                  6                  14            8    14  30   \n",
       "3  3353377                  4                   8            5    11  26   \n",
       "4  3930239                  1                   1           11    14   0   \n",
       "\n",
       "   gender  registered_via  registration_init_time-day  \\\n",
       "0       0               7                          24   \n",
       "1       1               3                           2   \n",
       "2       1               9                          10   \n",
       "3       1               9                          28   \n",
       "4       0               9                           8   \n",
       "\n",
       "   registration_init_time-month  registration_init_time-year  \\\n",
       "0                             1                         2014   \n",
       "1                            11                         2014   \n",
       "2                             3                         2006   \n",
       "3                             9                         2007   \n",
       "4                             3                         2015   \n",
       "\n",
       "   expiration_date-day  expiration_date-month  expiration_date-year  \n",
       "0                    6                     10                  2017  \n",
       "1                   17                      6                  2017  \n",
       "2                   24                      9                  2017  \n",
       "3                   30                      9                  2017  \n",
       "4                    8                      9                  2017  "
      ]
     },
     "execution_count": 32,
     "metadata": {},
     "output_type": "execute_result"
    }
   ],
   "source": [
    "\n",
    "test_df = x_test.reset_index()\n",
    "test_df.head()"
   ]
  },
  {
   "cell_type": "code",
   "execution_count": 33,
   "id": "52c4d6cc",
   "metadata": {
    "execution": {
     "iopub.execute_input": "2024-02-17T10:59:49.330377Z",
     "iopub.status.busy": "2024-02-17T10:59:49.330084Z",
     "iopub.status.idle": "2024-02-17T10:59:54.790177Z",
     "shell.execute_reply": "2024-02-17T10:59:54.789210Z"
    },
    "papermill": {
     "duration": 5.487429,
     "end_time": "2024-02-17T10:59:54.792206",
     "exception": false,
     "start_time": "2024-02-17T10:59:49.304777",
     "status": "completed"
    },
    "tags": []
   },
   "outputs": [
    {
     "data": {
      "text/html": [
       "<div>\n",
       "<style scoped>\n",
       "    .dataframe tbody tr th:only-of-type {\n",
       "        vertical-align: middle;\n",
       "    }\n",
       "\n",
       "    .dataframe tbody tr th {\n",
       "        vertical-align: top;\n",
       "    }\n",
       "\n",
       "    .dataframe thead th {\n",
       "        text-align: right;\n",
       "    }\n",
       "</style>\n",
       "<table border=\"1\" class=\"dataframe\">\n",
       "  <thead>\n",
       "    <tr style=\"text-align: right;\">\n",
       "      <th></th>\n",
       "      <th>id</th>\n",
       "      <th>target</th>\n",
       "    </tr>\n",
       "  </thead>\n",
       "  <tbody>\n",
       "    <tr>\n",
       "      <th>0</th>\n",
       "      <td>1919950</td>\n",
       "      <td>0</td>\n",
       "    </tr>\n",
       "    <tr>\n",
       "      <th>1</th>\n",
       "      <td>358522</td>\n",
       "      <td>0</td>\n",
       "    </tr>\n",
       "    <tr>\n",
       "      <th>2</th>\n",
       "      <td>5324459</td>\n",
       "      <td>0</td>\n",
       "    </tr>\n",
       "    <tr>\n",
       "      <th>3</th>\n",
       "      <td>3353377</td>\n",
       "      <td>1</td>\n",
       "    </tr>\n",
       "    <tr>\n",
       "      <th>4</th>\n",
       "      <td>3930239</td>\n",
       "      <td>0</td>\n",
       "    </tr>\n",
       "  </tbody>\n",
       "</table>\n",
       "</div>"
      ],
      "text/plain": [
       "        id  target\n",
       "0  1919950       0\n",
       "1   358522       0\n",
       "2  5324459       0\n",
       "3  3353377       1\n",
       "4  3930239       0"
      ]
     },
     "execution_count": 33,
     "metadata": {},
     "output_type": "execute_result"
    }
   ],
   "source": [
    "predictions = Dtree.predict(pd.DataFrame(x_test).values)\n",
    "sub = pd.DataFrame()\n",
    "sub['id'] = test_df['index']\n",
    "sub['target'] = predictions\n",
    "sub.to_csv('submission.csv',index=False)\n",
    "sub.head()"
   ]
  }
 ],
 "metadata": {
  "kaggle": {
   "accelerator": "nvidiaTeslaT4",
   "dataSources": [
    {
     "databundleVersionId": 44320,
     "sourceId": 7162,
     "sourceType": "competition"
    }
   ],
   "dockerImageVersionId": 30558,
   "isGpuEnabled": true,
   "isInternetEnabled": true,
   "language": "python",
   "sourceType": "notebook"
  },
  "kernelspec": {
   "display_name": "Python 3 (ipykernel)",
   "language": "python",
   "name": "python3"
  },
  "language_info": {
   "codemirror_mode": {
    "name": "ipython",
    "version": 3
   },
   "file_extension": ".py",
   "mimetype": "text/x-python",
   "name": "python",
   "nbconvert_exporter": "python",
   "pygments_lexer": "ipython3",
   "version": "3.11.7"
  },
  "papermill": {
   "default_parameters": {},
   "duration": 958.567567,
   "end_time": "2024-02-17T10:59:55.939406",
   "environment_variables": {},
   "exception": null,
   "input_path": "__notebook__.ipynb",
   "output_path": "__notebook__.ipynb",
   "parameters": {},
   "start_time": "2024-02-17T10:43:57.371839",
   "version": "2.4.0"
  }
 },
 "nbformat": 4,
 "nbformat_minor": 5
}
